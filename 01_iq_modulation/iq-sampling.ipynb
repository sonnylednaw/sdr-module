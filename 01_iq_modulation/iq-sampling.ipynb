{
 "cells": [
  {
   "cell_type": "code",
   "id": "49547791b88a8495",
   "metadata": {},
   "source": [
    "import scipy.constants\n",
    "\n",
    "from utilities.IQReceiver.IQReceiver import IQReceiver\n",
    "from utilities.IQSender.IQSender import IQSender\n",
    "from utilities.Signals import Signals\n",
    "from utilities.baseband_pulses.RaisedCosinePulse import RaisedCosinePulse\n",
    "from utilities.baseband_pulses.RectPulse import RectPulse\n",
    "from utilities.enums.ModulationCodingScheme import ModulationCodingScheme\n",
    "from utilities.enums.ModulationCodingSchemeShift import ModulationCodingSchemeShift\n",
    "from utilities.enums.SynchronizationSequences import SynchronizationSequence\n",
    "from utilities.plots.iq_sampling_plots import plot_frame, plot_sampling_parameter, plot_iq_samples, plot_shaped_signals, \\\n",
    "    plot_carrier_signals, plot_passband_signals, plot_passband_spectrum, plot_downmixed_signals, plot_lowpass_filter, \\\n",
    "    plot_filtered_spectra, plot_filtered_signals, plot_signals, plot_spectra, plot_iq_symbols\n",
    "from utilities.enums.BasebandPulseForm import BasebandPulseForm\n",
    "from utilities.types.Params import Parameters, BasebandParams, FrameParams\n",
    "import numpy as np\n",
    "from matplotlib import pyplot as plt\n",
    "from typing import Union, Sequence\n",
    "\n",
    "from utilities.synchronization.SynchronizationSequences import SynchronizationSequences"
   ],
   "outputs": [],
   "execution_count": null
  },
  {
   "cell_type": "markdown",
   "id": "49589742b76111ce",
   "metadata": {},
   "source": [
    "# Am Anfang wird immer in Bursts übertragen, ohne Kontinuierliches Senden\n",
    "\n",
    "# IQ Sampling\n",
    "\n",
    "Ziel dieses Notebooks ist es, ein Verständnis für die generierung und Abtastung von IQ-Samples zu entwickeln. Dabei soll Rauschen und der Einfluss des Kanals zunächst vernachlässigt werden. Der Fokus soll hier allein auf dem Verständnis liegen, wie IQ Samples von einem SDR versendet werden, als reales Signal übertragen werden und wie sie empfangen werden.\n",
    "\n",
    "Am Ende des Notebooks sollte folgendes klar sein:\n",
    "\n",
    "- Was sind IQ-Samples?\n",
    "- Das Sendesignal wird immer komplex beschrieben. Übertragen wird jedoch nur der Realteil. Warum?\n",
    "- Wie werden aus dem realen, analogen Empfangssignal die komplexen IQ-Samples gewonnen?\n",
    "- Warum können der I- und Q-Teil überlagert ausgesendet werden und dennoch beim Empfänger getrennt werden?"
   ]
  },
  {
   "cell_type": "markdown",
   "id": "acc5fee531382b4a",
   "metadata": {},
   "source": [
    "# Theoretischer Background: TX und RX\n",
    "\n",
    "## Transmitter\n",
    "\n",
    "Der Transmitter (TX) erzeugt ein diskretes komplexes Basisband-Signal $s_{\\text{NF}}[n]$, welches in der Regel als I/Q-Signal bezeichnet wird. Das I/Q-Signal besteht aus zwei Komponenten: der In-Phase-Komponente (I) und der Quadratur-Komponente (Q). Das I/Q-Signal $s_{\\text{NF}}[n]$ wird dann auf eine Trägerfrequenz $f_{\\text{c}}$ hochgemischt und als analoges Passband Signal $s_{\\text{HF}}(t)$ übertragen.\n",
    "\n",
    "\n",
    "\n",
    "$$s_{\\text{NF}}[n] = I[n] + j \\text{ } Q[n]$$\n",
    "\n",
    "* $I[n]$ ist die In-Phase-Komponente (Kosinus Anteil, Realteil)\n",
    "* $Q[n]$ ist die Quadratur-Komponente (Sinus Anteil, Imaginärteil)\n",
    "* Bsp.: QPSK-Sample\n",
    "$$\n",
    "\\begin{align*}\n",
    "s_{\\text{QPSK}} &= 1 + j \\\\\n",
    "                &= \\sqrt{2} \\text{ } e^{j\\frac{\\pi}{4}} \\\\\n",
    "                &=  \\sqrt{2} \\cos(\\frac{\\pi}{4}) + j \\sqrt{2}  \\sin(\\frac{\\pi}{4}) \\\\\n",
    "                &= I + j Q\n",
    "                &= \\sqrt{2} \\left(\\frac{\\sqrt{2}}{2} + j \\frac{\\sqrt{2}}{2}\\right) \\\\\n",
    "                &= 1 + j\n",
    "\\end{align*}\n",
    "$$\n",
    "\n",
    "![IQ Sampling Receiver](./images/IQ_diagram_sender.png)\n",
    "\n",
    "Werden die IQ-Samples vom ausgesendet, werden sie als reales Signal übertragen.\n",
    "\n",
    "### Im SDR wird das wie im Blockschaltbild folgendermaßen realisiert:\n",
    "- Es wird ein $\\cos{2 \\pi f_c t}$ generiert, mit Trägerfrequenz $f_{\\text{c}}$ generiert\n",
    "- Dieser wird dann zum einen mit der realen Komponente (I-Komponente) multipliziert\n",
    "- Für die imaginäre Komponente (Q-Komponente) wird auf den Cosinus eine Phasenverschiebung von $\\frac{\\pi}{2}$ angewendet: $\\cos{(2 \\pi f_c t + \\frac{\\pi}{2})} = - \\sin(2 \\pi f_c t)$\n",
    "- Dieser wird dann zum einen mit der realen Komponente (Q-Komponente) multipliziert\n",
    "- Durch das Superpositionsprinzip addieren sich beide Komponenten zu:\n",
    "$$\n",
    "    s_{\\text{HF}}(t) = I(t) \\cos(2 \\pi f_{\\text{c}} t) - Q(t) \\sin(2 \\pi f_{\\text{c}} t)\n",
    "$$\n",
    "\n",
    "#### Bemerkung Orthogonalität:\n",
    "Die beiden Signale sind orthogonal zueinander, d.h. das Skalarprodukt ist 0. Das bedeutet, dass die beiden Signale unabhängig voneinander sind und der Empfänger die I und Q Komponenten aus der Summe extrahieren kann."
   ]
  },
  {
   "cell_type": "code",
   "id": "b9a8e6966493b4a5",
   "metadata": {},
   "source": [
    "def normalize_energy(signal):\n",
    "    energy = np.sum(np.abs(signal) ** 2)\n",
    "    return signal / np.sqrt(energy)"
   ],
   "outputs": [],
   "execution_count": null
  },
  {
   "cell_type": "markdown",
   "id": "b7d6e0655a3958cc",
   "metadata": {},
   "source": [
    "## Generierung des Sendesignals\n",
    "\n",
    "Das Sendesignal wird aus den Datenbits und einer Synchronisationssequenz generiert. Die Synchronisationssequenz wird verwendet, um den Empfänger zu synchronisieren. Das Sendesignal wird dann mit einem Raised-Cosine Filter gepulst, um die Bandbreite des Signals zu begrenzen.\n",
    "\n",
    "### Konvertierung der Datenbits $\\vec{b}[m]$ in BPSK Samples\n",
    "\n",
    "   $$\n",
    "    \\text{BPSK}(i) = \\vec{b}[i] \\cdot 2 - 1\n",
    "   $$\n",
    "\n",
    "Es sollen T = 8 Samples pro Symbol verwendet werden. Das Sendesignal wird dann wie folgt generiert:\n",
    "\n",
    "$$\n",
    "    x_{\\text{NF, no shape}}[n] = \\sum_{i=0}^{N-1} \\text{BPSK}(i) \\delta\\left(n - i T\\right)\n",
    "$$\n",
    "\n",
    "Für IQ-Modulation wird das für den I und Q Teil getrennt durchgeführt, somit ergibt sich:\n",
    "\n",
    "$$\n",
    "    x_{\\text{I, no shape}}[n] = \\Re\\left\\{x_{\\text{NF, no shape}}[n]\\right\\}\n",
    "$$\n",
    "$$\n",
    "    x_{\\text{Q, no shape}}[n] = \\Im\\left\\{x_{\\text{NF, no shape}}[n]\\right\\}\n",
    "$$"
   ]
  },
  {
   "cell_type": "code",
   "id": "c209034613cdf71c",
   "metadata": {},
   "source": [
    "plot_sampling_parameter()"
   ],
   "outputs": [],
   "execution_count": null
  },
  {
   "cell_type": "markdown",
   "id": "f8a24f9e93df0c44",
   "metadata": {},
   "source": [
    "#### Aufgabe 1:\n",
    "- Machen Sie sich mit den nachfolgenden Parametern vertraut, diese werden nachfolgend immer wieder verwendet und spielen eine wichtige Rolle für die korrekte Auflösung der Signale\n",
    "- Befolgen Sie die Anweisungen in den Kommentaren (Sie können die Parameter auch selbst sinnvoll frei wählen)."
   ]
  },
  {
   "cell_type": "code",
   "id": "9c97c86589fa10ae",
   "metadata": {},
   "source": [
    "params = Parameters(\n",
    "    baseband=BasebandParams(\n",
    "        T_s=1/2,\n",
    "        sps=8,\n",
    "        num_samps=101,\n",
    "        pulseform=BasebandPulseForm.RAISED_COSINE,\n",
    "        amplitude=1,\n",
    "        roll_off=0.35\n",
    "    ),\n",
    "    frame=FrameParams(\n",
    "        num_sync_syms=16,\n",
    "        num_data_syms=128,\n",
    "        mcs=ModulationCodingScheme.BPSK,\n",
    "        sync_sec=SynchronizationSequence.ZADOFF_CHU,\n",
    "        pilot_start_idx=0,\n",
    "        pilot_repetition=5,\n",
    "        pilot_zc_root=25\n",
    "    )\n",
    ")\n",
    "\n",
    "# Nun noch die Dauer eines Samples\n",
    "print(f\"Die Sample Dauer T_s ergibt sich durch T_sample = T_s / sps = {params.baseband.T_sample}\")"
   ],
   "outputs": [],
   "execution_count": null
  },
  {
   "cell_type": "markdown",
   "id": "9c6549a7f649a813",
   "metadata": {},
   "source": [
    "## Generierung der Bits $\\vec{b}[m]$\n",
    "\n",
    "#### Aufgabe 2:\n",
    "- Erstellen Sie ein Array beliebiger Datenbits in `data_bits`\n",
    "- `data_bits`: $\\vec{b}[m] \\in \\{0,1\\}$"
   ]
  },
  {
   "cell_type": "code",
   "id": "4ecff555b7bbe32e",
   "metadata": {},
   "source": "data_bits =",
   "outputs": [],
   "execution_count": null
  },
  {
   "cell_type": "code",
   "id": "d54db50c89e8c170",
   "metadata": {},
   "source": [
    "plot_frame(frame_params=params.frame)"
   ],
   "outputs": [],
   "execution_count": null
  },
  {
   "cell_type": "code",
   "id": "6dd71857c13f1be0",
   "metadata": {},
   "source": [
    "iq_sender = IQSender(data_bits, params.frame, params.baseband)"
   ],
   "outputs": [],
   "execution_count": null
  },
  {
   "cell_type": "markdown",
   "id": "1726a7117cce560f",
   "metadata": {},
   "source": [
    "### Mapping der Bits $\\vec{b}[m]$ auf Modulationssymbole & Erstellung eines Frames\n",
    "\n",
    "- Ziel: NumPy Array mit den Modulationssymbolen\n",
    "- $\\vec{b}[m]$ wird auf ein Modulationssymbole $d(l)$ gemappt\n",
    "- Anweisung: Überlegen Sie sich, wie Sie die Bits auf die Modulationssymbole mappen. Verwenden Sie ein Gray-Mapping.\n",
    "\n",
    "#### Aufgabe 3.1: BPSK\n",
    "- Implementieren sie die Funktion `bpsk_modulation(data_bits)` in sdr-module/utilities/IQSender/Modulator.py\n",
    "\n",
    "#### Aufgabe 3.2: QPSK\n",
    "- Implementieren sie die Funktion `qpsk_modulation(data_bits)` in sdr-module/utilities/IQSender/Modulator.py\n",
    "\n",
    "### Hinweis: Durch nachfolgenden Aufruf wird eine der beiden Funktionen automatisch aufgerufen (Je nachdem, welches MCS in den `params` konfiguriert wurde)."
   ]
  },
  {
   "cell_type": "code",
   "id": "3057d3d9b4fae1d2",
   "metadata": {},
   "source": [
    "modulation_data_symbols = iq_sender.modulate()"
   ],
   "outputs": [],
   "execution_count": null
  },
  {
   "cell_type": "markdown",
   "id": "bbc37850020a8b40",
   "metadata": {},
   "source": [
    "#### Aufgabe 4: Befüllung des obigen Frames, basierend auf den `params`\n",
    "\n",
    "- Es soll in obigem Plot der graue Teil mit den Modulationssymbolen befüllt werden\n",
    "- Auf graue Blöcke kommt ein Modulationssymbol\n",
    "- Auf rote Blöcke kommt ein Symbol der Pilotensequenz\n",
    "- Die Pilotensequenz erhalten Sie in der Klasse IQSender (utilities/IQSender/IQSender.py) mit `self.create_pilot_seq()`\n",
    "\n",
    "##### 4.1:\n",
    "- Implementieren Sie die Methode `fill_frame()` in utilities/IQSender/IQSender.py\n",
    "- Der Output sollte ein Array des rechten Teils des obigen Frames sein (die Sychronisationssequenz folgt später)\n",
    "- Die Indizes für Piloten füllen Sie bis zum letzten möglichen Index auf\n",
    "- Die Indizes für Nutzdaten füllen sie mit den Modulationssymbolen solange, bis sie keine mehr haben\n",
    "- Hat der Frame danach freie Plätze, so können diese Indexe als `zero_padded_indexes` betrachtet werden und mit Nullen aufgefüllt werden\n",
    "- Hinweis: Sie müssen aus den `self.params` (die haben sie oben selbst definiert) die notwendige Länge der Pilotensequenz bestimmen und damit `self.create_pilot_seq()` aufrufen\n",
    "- Erwarteter Output:\n",
    "    - Tupel (frame_samples_data_pilots, zero_padded_indexes)\n",
    "        - Numpy Array: `frame_samples_data_pilots`\n",
    "        - Numpy Array: `zero_padded_indexes`"
   ]
  },
  {
   "cell_type": "code",
   "id": "dd3c2219b4209658",
   "metadata": {},
   "source": [
    "# add pilots via multiplexing\n",
    "modulation_data_symbols_with_pilots, zero_padded_indexes = iq_sender.fill_frame()\n",
    "print(modulation_data_symbols_with_pilots.size)"
   ],
   "outputs": [],
   "execution_count": null
  },
  {
   "cell_type": "markdown",
   "id": "add05ceba31926c0",
   "metadata": {},
   "source": [
    "#### Besonderheit der Pilotensequenz:\n",
    "\n",
    "- Sie trägt die Information des von Ihnen konfigurierten MCS `params.frame.mcs`\n",
    "- Die Pilotensequenz ist eine ZC-Sequenz und trägt die Wurzel `params.frame.pilot_zc_root`\n",
    "- Bei der Generierung in `IQSender.create_sync_seq` wurde Sie zyklisch um einen `mcs_shift` verschoben\n",
    "- Das Mapping zwischen MCS und `mcs_shift` findet sich in utilities/enums/ModulationCodingSchemeShift.py"
   ]
  },
  {
   "cell_type": "code",
   "id": "9d201087ab553034",
   "metadata": {},
   "source": [
    "plot_frame(frame_params=params.frame, zero_padded_indexes=zero_padded_indexes)"
   ],
   "outputs": [],
   "execution_count": null
  },
  {
   "cell_type": "markdown",
   "id": "f70839eed8be58dd",
   "metadata": {},
   "source": [
    "## Generation der Synchronisationssequenz\n",
    "\n",
    "Hier soll es um den blauen Teil des Frames gehen.\n",
    "\n",
    "- Die Funktion utilities/IQSender/IQSender.create_sync_seq() ist bereits vollständig für eine M-Sequenz und eine ZC-Sequenz implementiert\n",
    "- In dieser Aufgabe ist es das Ziel, eine Barker Sequenz zur Synchronisation zu erweitern\n",
    "\n",
    "#### Aufgabe 5:\n",
    "- Erweitern Sie das ENUM utilities/enums/SynchronizationSequences.py\n",
    "- Erweitern Sie die Generation einer Barker-Sequenz in utilities/synchronization/SynchronizationSequences.py\n",
    "- Erwarteter Output: utilities/IQSender/IQSender.create_sync_seq() funktioniert auch, wenn oben in den `params.frame.sync_seq` ihre neu hinzugefügte Barker-Sequenz angegeben wird\n",
    "\n",
    "Scheint das zu zeitaufwändig, können Sie auch einfach eine der bereits existierenden aus utilities/enums/SynchronizationSequences.py verwenden. So ist es bereits in den `params` oben eingestellt."
   ]
  },
  {
   "cell_type": "code",
   "id": "214744a176fab48a",
   "metadata": {},
   "source": [
    "synchronization_sequence = iq_sender.create_sync_seq()"
   ],
   "outputs": [],
   "execution_count": null
  },
  {
   "cell_type": "markdown",
   "id": "7afe43aa1ff0a845",
   "metadata": {},
   "source": [
    "#### Aufgabe 6:\n",
    "- Ziel: Symbole der Synchronisationssequenz & Datensymbole in einem Array von Modulationssymbolen $d(l)$\n",
    "- Implementieren Sie die Funktion utilities/IQSender/IQSender.concatenate_sync_and_data_symbols()\n",
    "- Dabei soll im IQSender die Synchronisationssequenz `self.sync_seq` und der Datenteil mit den Piloten des Frames `self.modulation_symbols_with_pilots` konkateniert werden\n"
   ]
  },
  {
   "cell_type": "code",
   "id": "c8d35ecf30061815",
   "metadata": {},
   "source": [
    "symbols = iq_sender.concatenate_sync_and_data_symbols()"
   ],
   "outputs": [],
   "execution_count": null
  },
  {
   "cell_type": "markdown",
   "id": "4bebf34b08269580",
   "metadata": {},
   "source": [
    "## Pulse Shaping:\n",
    "\n",
    "Hierfür werden zwei Dinge benötigt:\n",
    "\n",
    "1. Design Basisbandimpulse $h_{\\text{Pulse Form}}[n]$\n",
    "2. Dirac-Summe mit Modulationssymbolen $x_{\\text{no shape}}[n]$\n",
    "\n",
    "Die Basisbandimpulse sind bereits implementiert, um ihnen die Arbeit zu erleichtern. Sie können diese einfach verwenden. Nachfolgende Codezelle plottet den von ihnen in den `params.baseband` konfigurierten Basisbandimpuls."
   ]
  },
  {
   "cell_type": "code",
   "id": "273e004a01eaefb7",
   "metadata": {},
   "source": [
    "if params.baseband.pulseform is BasebandPulseForm.RECT:\n",
    "    h_pulse_form = RectPulse.from_baseband_params(baseband_params=params.baseband)\n",
    "elif params.baseband.pulseform is BasebandPulseForm.RAISED_COSINE:\n",
    "    h_pulse_form = RaisedCosinePulse.from_baseband_params(baseband_params=params.baseband)\n",
    "\n",
    "h_pulse_form.plot()"
   ],
   "outputs": [],
   "execution_count": null
  },
  {
   "cell_type": "markdown",
   "id": "4b347b9b979272cf",
   "metadata": {},
   "source": [
    "### 2. Dirac-Summe der Modulationssymbole `symbols` $x_{\\text{no shape}}[n] = \\sum_{l=0}^{L-1} d(l) \\text{ } \\delta\\left(t - l T_s\\right) $\n",
    "\n",
    "- Ziel: NumPy Array mit der Dirac-Summe $x_{\\text{no shape}}[n]$.\n",
    "- Die Modulationssymbole des gesamten Frames liegen zwei Codezellen oberhalb in `symbols`\n",
    "\n",
    "Es wird benötigt:\n",
    "\n",
    "1. Eine Dirac-Summe $x_{\\text{I,no shape}}[n]$ für den I-Anteil, welche die Realteile der Symbole $ \\Re \\{d(l) \\} $ enthält\n",
    "2. Eine Dirac-Summe $x_{\\text{I,no shape}}[n]$ für den Q-Anteil, welche die Imaginärteile der Symbole $ \\Im \\{d(l) \\} $ enthält\n",
    "- Hinweis: Die Zeit $t$ ist diskret, wobei ein Indexbin $n$ einem Zeitpunkt $t = n \\cdot T_{\\text{Sample}}$ entspricht\n",
    "    - Die Dauer eines Samples $T_{\\text{sample}}$ ist gegeben durch: $T_{\\text{sample}} = \\frac{T_s}{\\text{sps}}$\n",
    "- Das bedeutet die einzelnen Dirac-Summanden brauchen einen zeitlichen Abstand von $T_{\\text{s}}$,\n",
    "was in Samples durch die Beziehung $T_{Sample} $  [ $ \\frac{s}{Sample} $] $ =  \\frac{T_s}{sps} \\text{ } $[ $ \\frac{s}{Sample} $] gegeben ist. Durch Umstellen ergibt sich der Abstand in Samples durch:\n",
    "\n",
    "$$ \\text{sps} = \\frac{T_s}{T_{\\text{Sample}}} \\quad \\text{, die Einheit beider Seiten ist nun Samples}$$\n",
    "\n",
    "In Bins ausgedrückt ergeben sich die Dirac-Summen $x_{\\text{I,no shape}}[n]$ & $x_{\\text{Q,no shape}}[n]$ zu:\n",
    "\n",
    "$$\n",
    "    x_{\\text{I, no shape}}[n] = \\sum_{l=0}^{L-1} \\Re \\{d(l) \\} \\text{ } \\delta\\left(n - l \\text{ sps}\\right) \\quad \\text{, mit } L = \\text{len(d(l) )}\\cdot sps\n",
    "$$\n",
    "$$\n",
    "    x_{\\text{Q, no shape}}[n] = \\sum_{i=0}^{N-1} \\Im \\{d(l) \\}  \\text{ } \\delta\\left(n - l \\text{ sps}\\right) \\quad \\text{, mit } N = \\text{len(d(l) )}\\cdot sps\n",
    "$$\n",
    "\n",
    "#### Aufgabe 7: Implementierung von IQSender.dirac_sum_with_frame_symbols().\n",
    "- Erstellen Sie die Dirac-Summe $x_{\\text{I, no shape}}[n]$ in `x_no_shaped`\n",
    "- Erstellen Sie die Dirac-Summe $x_{\\text{Q, no shape}}[n]$ in `x_no_shaped`\n",
    "- Erstellen Sie zusätzlich die Zeitvariable `t`, beachten Sie dass zwischen jedem Sample in `t` der Abstand `T_Sample` sein muss. (Im IQSender liegt die Information in `self.baseband_params.T_sample`)\n",
    "- Hinweis: Sie können für $\\delta (t - \\tau)$ `Signals.delta_distribution(t, tau)` verwenden\n"
   ]
  },
  {
   "cell_type": "code",
   "id": "41d696180242d138",
   "metadata": {},
   "source": [
    "x_iq_no_shape = iq_sender.dirac_sum_with_frame_symbols()\n",
    "\n",
    "x_i_no_shape = x_iq_no_shape.I\n",
    "x_q_no_shape = x_iq_no_shape.Q"
   ],
   "outputs": [],
   "execution_count": null
  },
  {
   "cell_type": "code",
   "id": "5189f0f5b61aaa8e",
   "metadata": {},
   "source": [
    "fig, axes = plot_iq_samples(x_i=x_i_no_shape, x_q=x_q_no_shape, sps=params.baseband.sps)\n",
    "plt.show()"
   ],
   "outputs": [],
   "execution_count": null
  },
  {
   "cell_type": "markdown",
   "id": "f13490a9a63751d0",
   "metadata": {},
   "source": [
    "## Pulsformung\n",
    "\n",
    "Um das Basisbandsignal $x_{\\text{I, shaped}}[n] $ & $x_{\\text{Q, shaped}}[n]$ müssen die Diracsummen $x_{\\text{I, no shape}}[n]$ & $x_{\\text{Q, no shape}}[n]$ mit einem Basisband Puls $h_{\\tiny{\\text{Pulse Form}}}[n]$ geformt werden. Dies wird durch eine Faltung wie folgt erreicht:\n",
    "\n",
    "$$\n",
    "    x_{\\text{I, shaped}}[n] = x_{\\text{I, no shape}}[n] * h_{\\tiny{\\text{Pulse Form}}}[n]\n",
    "$$\n",
    "$$\n",
    "    x_{\\text{Q, shaped}}[n] = x_{\\text{Q, no shape}}[n] * h_{\\tiny{\\text{Pulse Form}}}[n]\n",
    "$$"
   ]
  },
  {
   "cell_type": "markdown",
   "id": "d1d774fc97939298",
   "metadata": {},
   "source": [
    "#### Aufgabe 8: Pulse Shaping\n",
    "\n",
    "##### Aufgabe 8.1: Implementierung von IQSender.shape_symbols()\n",
    "- $ h_{\\tiny{\\text{Pulse Form}}}[n] $ erhalten Sie innerhalb von shape_symbols() im IQSender via `self.h.generate_pulse()`\n",
    "- Berechnung von $x_{\\text{I, shaped}}[n]$ in `x_iq_shaped.I` (mithilfe von `self.x_iq_no_shape.I` und `h`)\n",
    "- Berechnung von $x_{\\text{Q, shaped}}[n]$ in `x_iq_shaped.Q` (mithilfe von `self.x_iq_no_shape.I` und `h`)\n",
    "##### Aufgabe 8.2: In nachfolgender Jupyter Zelle erweitern\n",
    "- Erstellen Sie ein passenden Zeitvektor `t`\n",
    "- Berechnen Sie $\\mathfrak{F} \\{x_{\\text{I, shaped}}[n] \\}$ und speichern Sie das Ergebnis in `x_i_shaped_spectrum`\n",
    "- Berechnen Sie $\\mathfrak{F} \\{x_{\\text{Q, shaped}}[n] \\}$ und speichern Sie das Ergebnis in `x_q_shaped_spectrum`\n",
    "- Erstellen Sie in der korrekten Auflösung den zugehörigen Frequenzvektor `f`\n",
    "- Hinweise:\n",
    "    - Nutzen Sie die Funktion `np.convolve` für die Faltung"
   ]
  },
  {
   "cell_type": "code",
   "id": "c116061f4d3fd9e9",
   "metadata": {},
   "source": [
    "x_iq_shaped = iq_sender.shape_symbols()\n",
    "\n",
    "x_i_shaped = x_iq_shaped.I\n",
    "x_q_shaped = x_iq_shaped.Q\n",
    "\n",
    "# Aufgabe 8.2\n",
    "t =\n",
    "\n",
    "x_i_shaped_spectrum =\n",
    "x_q_shaped_spectrum =\n",
    "f ="
   ],
   "outputs": [],
   "execution_count": null
  },
  {
   "cell_type": "code",
   "id": "c2ecf32d48be5b27",
   "metadata": {},
   "source": [
    "plot_shaped_signals(h_pulse_form, x_i_no_shape, x_i_shaped, x_i_shaped_spectrum, x_q_no_shape, x_q_shaped, x_q_shaped_spectrum, t, f)"
   ],
   "outputs": [],
   "execution_count": null
  },
  {
   "cell_type": "markdown",
   "id": "11963dc471f3e18e",
   "metadata": {},
   "source": [
    "## Problem: Übergang ins \"analoge Passband\"\n",
    "\n",
    "Die Träger und das Passband sind analog. Alles was im Rahmen der Simulation dieses Notebooks gemacht wurde und gemacht werden kann ist zeitdiskret.\n",
    "\n",
    "Um also das Hochmischen ins Passband zu simulieren, müssen `x_i_shaped` und `x_q_shaped` mit Trägern multipliziert werden. Damit das technisch umsetzbar ist, müssen die Träger die gleiche Anzahl der Samples haben, wie auch `x_i_shaped` und `x_q_shaped`.\n",
    "\n",
    "Nun das Problem: Für hohe Trägerfrequenzen $f_c$ reichen die Anzahl der Samples von `x_i_shaped` und `x_q_shaped` nicht aus, um der minimal notwendigen Abtastrate der Träger mit $f_c$ gerecht zu werden.\n",
    "\n",
    "### Lösung: Oversampling von `x_i_shaped` und `x_q_shaped`"
   ]
  },
  {
   "cell_type": "markdown",
   "id": "db1b064ec6fa71cc",
   "metadata": {},
   "source": [
    "##### Aufgabe 9: Oversampling von `x_i_shaped` und `x_q_shaped`\n",
    "\n",
    "- Implementieren Sie die nachfolgenden Funktionen `oversample_signal` und `invert_oversampling`\n",
    "    - Hinweis Oversampling: Für das Oversampling, muss jedes Sample `oversampling_factor`-mal wiederholt werden. Informieren Sie sich, wie sie dies mit der NumPy-Funktion `np.repeat` umsetzen können.\n",
    "    - Hinweis Umkehrung des Oversamplings: Realisierbar durch Abtastung des Oversampled-Signals mit der Abtastrate $f_s$ = `oversampling_factor`\n",
    "- Definieren Sie einen Wert für den `oversampling_factor` der zu Ihrer $f_c$ in der übernächsten Zelle passt.\n",
    "- Oversampling von `x_i_shaped` und `x_i_shaped` in `x_i_oversampled` und `x_q_oversampled`\n"
   ]
  },
  {
   "cell_type": "code",
   "id": "22b6176c0717d14d",
   "metadata": {},
   "source": [
    "def oversample_signal(signal, oversampling_factor):\n",
    "    return None\n",
    "\n",
    "def invert_oversampling(signal, oversampling_factor):\n",
    "    return None\n",
    "\n",
    "oversampling_factor =\n",
    "\n",
    "x_i_oversampled = oversample_signal(x_i_shaped, oversampling_factor)\n",
    "x_q_oversampled = oversample_signal(x_q_shaped, oversampling_factor)\n",
    "\n",
    "plt.plot(x_i_oversampled)\n",
    "plt.plot(x_q_oversampled)"
   ],
   "outputs": [],
   "execution_count": null
  },
  {
   "cell_type": "markdown",
   "id": "da92683edc4824b",
   "metadata": {},
   "source": [
    "### Aufbau des Trägersignals\n",
    "\n",
    "![IQ Sampling Receiver](./images/IQ_diagram_sender.png)\n",
    "\n",
    "- Gemäß des Blockschaltbildes brauchen wir ein Carrier $s_c(t)$, welcher das Basisbandsignal auf eine Trägerfrequenz $f_c$ hochmischen kann\n",
    "- Dieser wird direkt mit dem I-Anteil des Basisbandsignals $x_{\\text{I, shaped}}(t)$ multipliziert\n",
    "- Der I-Anteil wird laut obigen Berechnungen mit dem Cosinus übertragen. Blockschaltbild konform muss $s_c(t)$ für den I-Anteil also wie folgt aussehen:\n",
    "$$\n",
    "    s_{\\text{c,I}}(t) = \\cos(2 \\pi f_c t)\n",
    "$$\n",
    "- Aus der $90°$ Phasendrehung folgt, dass $s_c(t)$ für den Q-Anteil wie folgt aussehen muss:\n",
    "$$\n",
    "    s_{\\text{c,Q}}(t) = \\cos(2 \\pi f_c t + \\frac{\\pi}{2}) = - \\sin(2 \\pi f_c t)\n",
    "$$\n",
    "\n"
   ]
  },
  {
   "cell_type": "markdown",
   "id": "214ae69d213ae88d",
   "metadata": {},
   "source": [
    "#### Aufgabe 10: Hochmischen des\n",
    "- Generieren Sie zu $f_c$ die Träger $s_{\\text{c,I}}(t)$ in `s_c_I` und $s_{\\text{c,Q}}(t)$ in `s_c_Q`\n",
    "- Erstellen Sie einen passenden Zeitvektor `t`\n",
    "    - Hinweis: Die Dauer eines Samples bzw. der zeitliche Abstand zwischen zwei Samples in `t` ist durch das oversampling kürzer geworden.\n",
    "    - Skalieren Sie `t` mit `params.baseband.T_sample` und dem obigen `oversampling_factor` korrekt"
   ]
  },
  {
   "cell_type": "code",
   "id": "22e0b44ef6eb984f",
   "metadata": {},
   "source": [
    "t =\n",
    "f_c =\n",
    "\n",
    "s_c_I =\n",
    "s_c_Q ="
   ],
   "outputs": [],
   "execution_count": null
  },
  {
   "cell_type": "code",
   "id": "c0c7e6e61ef87aa3",
   "metadata": {},
   "source": [
    "plot_carrier_signals(t, s_c_I, s_c_Q, f_c)"
   ],
   "outputs": [],
   "execution_count": null
  },
  {
   "cell_type": "markdown",
   "id": "41bde61b382cfd9e",
   "metadata": {},
   "source": [
    "### Hoschmischen des Basisbandsignals $x_{\\text{I, shaped}}(t)$ & $x_{\\text{Q, shaped}}(t)$auf die Trägerfrequenz $f_c$\n",
    "\n",
    "Wie bereits erwähnt, kann das Passbandsignal $s_{\\text{HF}}(t)$ kann also wie folgt beschrieben werden:\n",
    "$$\n",
    "\\begin{align*}\n",
    "    s_{\\text{HF}}(t) &= I(t) s_{\\text{c,I}}(t) + Q(t) s_{\\text{c,Q}}(t) \\\\\n",
    "    &= I(t) \\cos(2 \\pi f_{\\text{c}} t) - Q(t) \\sin(2 \\pi f_{\\text{c}} t) \\\\\n",
    "\\end{align*}\n",
    "$$\n",
    "Wobei:\n",
    "- $I(t) = x_{\\text{I, shaped}}(t) =$ `x_i_oversampled`\n",
    "- $Q(t) = x_{\\text{Q, shaped}}(t) =$ `x_q_oversampled`\n",
    "\n",
    "#### Aufgabe 11:\n",
    "- Berechnen Sie $s_{\\text{HF}}(t)$ in `s_hf`\n",
    "- Erstellen Sie den passenden Zeitvektor `t`"
   ]
  },
  {
   "cell_type": "code",
   "id": "ac5221c2e3945b27",
   "metadata": {},
   "source": [
    "s_hf =\n",
    "t ="
   ],
   "outputs": [],
   "execution_count": null
  },
  {
   "cell_type": "code",
   "id": "691888e157cf64a3",
   "metadata": {},
   "source": [
    "plot_passband_signals(t, x_i_oversampled, s_c_I, x_q_oversampled, s_c_Q, s_hf)"
   ],
   "outputs": [],
   "execution_count": null
  },
  {
   "cell_type": "markdown",
   "id": "2c33c0e312cbeee3",
   "metadata": {},
   "source": [
    "#### Spektrum des Passbandsignals $\\mathfrak{F} \\{ s_{\\tiny{\\text{HF}}}(t) \\}$\n",
    "\n",
    "#### Aufgabe 12:\n",
    "- Berechnen Sie $\\mathfrak{F} \\{ s_{\\tiny{\\text{HF}}}(t) \\}$ in `s_hf_spectrum`\n",
    "- Erstellen Sie in passender Auflösung den zugehörigen Frequenzvektor `f`. Vergessen Sie nicht für die Frequenzauflösung den `oversampling_factor` zusätzlich zur vorigen Sampledauer `params.baseband.T_sample` zu berücksichtigen."
   ]
  },
  {
   "cell_type": "code",
   "id": "23a2c9ca53d9cc34",
   "metadata": {},
   "source": [
    "s_hf_spectrum =\n",
    "f ="
   ],
   "outputs": [],
   "execution_count": null
  },
  {
   "cell_type": "code",
   "id": "f057dd6e71cae539",
   "metadata": {},
   "source": [
    "plot_passband_spectrum(f, s_hf_spectrum, f_c)"
   ],
   "outputs": [],
   "execution_count": null
  },
  {
   "cell_type": "markdown",
   "id": "ea7923249bf88349",
   "metadata": {},
   "source": [
    "## Mobilfunkkanal\n",
    "\n",
    "Bevor das Signal `s_hf` beim Empfänger ankommt, wird es durch den Mobilfunkkanal beeinflusst. Es wird ein AWGN Kanal und Freiraumausbreitung angenommen."
   ]
  },
  {
   "cell_type": "code",
   "id": "df6bc128a78328b5",
   "metadata": {},
   "source": [
    "def add_awgn_noise(signal, snr_dB):\n",
    "    \"\"\"\n",
    "    Adds AWGN noise to the signal based on the specified SNR in dB.\n",
    "    :param signal: Input signal\n",
    "    :param snr_dB: Signal-to-Noise Ratio in dB\n",
    "    :return: Signal with added AWGN noise\n",
    "    \"\"\"\n",
    "    signal_power = np.mean(np.abs(signal) ** 2)\n",
    "    snr_linear = 10 ** (snr_dB / 10)\n",
    "    noise_power = signal_power / snr_linear\n",
    "    noise = np.sqrt(noise_power / 2) * (np.random.randn(len(signal)) + 1j * np.random.randn(len(signal)))\n",
    "    return signal + noise\n",
    "\n",
    "def add_channel(t: Union[Sequence[float], np.ndarray],\n",
    "                signal: Union[Sequence[float], np.ndarray],\n",
    "                paths_m: Union[Sequence[float], np.ndarray]) -> np.ndarray:\n",
    "    dirac_sum = np.zeros_like(signal)\n",
    "    c0 = scipy.constants.speed_of_light\n",
    "    for d_m in paths_m:\n",
    "        amplitude = np.sqrt(c0/(4*np.pi*d_m*f_c))\n",
    "        dirac_sum += amplitude * Signals.delta_distribution(t, tau)\n",
    "    return np.fft.ifft(np.fft.fft(s_hf)*np.fft.fft(dirac_sum)).real"
   ],
   "outputs": [],
   "execution_count": null
  },
  {
   "cell_type": "code",
   "id": "6182d09b936d10a8",
   "metadata": {},
   "source": [
    "tau = 0.125/2 + 1/f_c\n",
    "c0 = 3e8\n",
    "paths = np.array([tau*c0,]) #d = tau * c0\n",
    "t = np.arange(s_hf.size) * params.baseband.T_sample\n",
    "s_hf = add_channel(t=t, signal=s_hf, paths_m=paths)\n",
    "s_hf = add_awgn_noise(signal=s_hf, snr_dB=100)"
   ],
   "outputs": [],
   "execution_count": null
  },
  {
   "cell_type": "markdown",
   "id": "b4d913e0c53adbf6",
   "metadata": {},
   "source": [
    "## Empfänger (Direct Downconversion)\n",
    "\n",
    "Bei der _Direct Downconversion_, wird vom Empfangssignal im SDR der I und Q Teil separat extrahiert. So kann das reale Empfangssignal wieder in die komplexe Basisbandsignalform zurückgeführt werden.\n",
    "\n",
    "<div style=\"text-align: center;\">\n",
    "    <img src=\"./images/IQ_sampling_receiver.png\" alt=\"IQ Sampling Receiver\" width=\"400\"/>\n",
    "</div>\n",
    "\n",
    "- Gemäß Blockschaltbild wird ein Trägersignal $s_{\\text{c}}(t)$ benötigt. Dieses muss die gleiche Trägerfrequenz $f_c$ haben wie auch der Träger beim Sender\n",
    "    - Für den I-Anteil wird wie beim Sender $s_{\\text{c,I}}(t) = \\cos(2 \\pi f_c t)$ verwendet (oberer Teil im Blockschaltbild)\n",
    "    - Für den Q-Anteil wird eine Phasendrehung von $\\Phi = \\frac{\\pi}{2}$ auf $ s_{\\text{c,I}}(t) $ angewendet: $s_{\\text{c,Q}}(t) = \\cos(2 \\pi f_c t + \\frac{\\pi}{2}) = \\sin(2 \\pi f_c t)$\n",
    "- Wichtig: Die Schritte Heruntermischen und Filtern finden bis zur ADC kontinuierlich statt\n",
    "- Bei der ADC wird das Signal mit der Sampling Rate $f_s$ *diskretisiert* und die reellen Samples *quantisiert*\n",
    "\n",
    "\n",
    "\n",
    "\n",
    "## Extraktion des I-Anteils (oberer Teil im Blockschaltbild):\n",
    "\n",
    "Das Heruntermischen von $ s_{\\text{HF}}(t) $ mit dem Träger für den I-Anteil $s_{\\text{c,I}}(t)$ lässt sich wie folgt beschreiben:\n",
    "\n",
    "\\begin{align*}\n",
    "    \\hat{I}_{\\text{No Filter}}(t) &= s_{\\text{HF}}(t) s_{\\text{c,I}}(t) \\\\\n",
    "    &= s_{\\text{HF}}(t) \\cos(2\\pi f_{\\text{c}} t) \\\\\n",
    "    &= \\frac{1}{2} I(t) \\cos(4\\pi f_{\\text{c}} t) - \\frac{1}{2} Q(t) \\sin(4\\pi f_{\\text{c}} t) + \\frac{1}{2} I(t)\n",
    "\\end{align*}\n",
    "Ziel: Hochfrequente Anteile entfernen, sodass $\\frac{1}{2} I(t)$ übrig bleibt.\n",
    "\n",
    "Die hochfrequenten Anteile bei $2f_{\\text{c}}$ und $-2f_{\\text{c}}$ werden durch einen Tiefpassfilter $h_{\\tiny{\\text{TP}}}(t)$ eliminiert:\n",
    "\n",
    "\\begin{align*}\n",
    "    \\hat{I}_{\\text{Filtered}}(t) &= \\hat{I}_{\\text{No Filter}}(t) * h_{\\tiny{\\text{TP}}}(t) \\\\\n",
    "    &= \\mathfrak{F^{-1}} \\{ \\hat{I}_{\\text{No Filter}}(f) \\cdot H_{\\tiny{\\text{TP}}}(f) \\} \\\\\n",
    "    &\\approx x_{\\text{I, shaped}}(t) \\approx x_{\\text{I, no shape}}(t) * h_{\\tiny{\\text{Pulse Form}}}(t)\n",
    "\\end{align*}\n",
    "\n",
    "Der I-Anteil des Basisbandsignals $\\hat{I}[n]$ wird dann durch eine ADC (Diskretisierung & Quantisierung) des Signals gewonnen:\n",
    "\\begin{align*}\n",
    "    \\hat{I}_{\\text{Filtered}}(t) &\\approx x_{\\text{I, no shape}}(t) * h_{\\tiny{\\text{Pulse Form}}}(t) \\\\\n",
    "    \\hat{I}[n] &= x_{\\text{I, no shape}}[n] * h_{\\tiny{\\text{Pulse Form}}}[n] \\text{, } \\quad t= \\frac{n}{f_s}\n",
    "\\end{align*}"
   ]
  },
  {
   "cell_type": "markdown",
   "id": "8aa45a8106d417fc",
   "metadata": {},
   "source": [
    "## Extraktion des Q-Anteils (unterer Teil im Blockschaltbild):\n",
    "\\begin{align*}\n",
    "    \\hat{Q}_{\\text{No Filter}}(t) &= s_{\\text{HF}}(t) s_{\\text{c,Q}}(t) \\\\\n",
    "    &= - s_{\\text{HF}}(t) \\sin(2\\pi f_{\\text{c}} t) \\\\\n",
    "    &= - \\frac{1}{2} I(t) \\sin(4\\pi f_{\\text{c}} t) - \\frac{1}{2} Q(t) \\cos(4\\pi f_{\\text{c}} t) + \\frac{1}{2} Q(t)\n",
    "\\end{align*}\n",
    "\n",
    "Ziel: Hochfrequente Anteile entfernen, sodass $\\frac{1}{2} Q(t)$ übrig bleibt.\n",
    "\n",
    "Die hochfrequenten Anteile bei $2f_{\\text{c}}$ und $-2f_{\\text{c}}$ werden durch einen Tiefpassfilter $h_{\\tiny{\\text{TP}}}(t)$ eliminiert:\n",
    "\n",
    "\\begin{align*}\n",
    "    \\hat{Q}_{\\text{Filtered}}(t) &= \\hat{Q}_{\\text{No Filter}}(t) * h_{\\tiny{\\text{TP}}}(t) \\\\\n",
    "    &= \\mathfrak{F^{-1}} \\{ \\hat{Q}_{\\text{No Filter}}(f) \\cdot H_{\\tiny{\\text{TP}}}(f) \\} \\\\\n",
    "    &\\approx x_{\\text{Q, shaped}}(t) \\approx x_{\\text{Q, no shape}}(t) * h_{\\tiny{\\text{Pulse Form}}}(t)\n",
    "\\end{align*}\n",
    "\n",
    "Der Q-Anteil des Basisbandsignals $\\hat{Q}[n]$ wird dann durch eine ADC (Diskretisierung & Quantisierung) des Signals gewonnen:\n",
    "\\begin{align*}\n",
    "    \\hat{Q}_{\\text{Filtered}}(t) &\\approx x_{\\text{Q, no shape}}(t) * h_{\\tiny{\\text{Pulse Form}}}(t) \\\\\n",
    "    \\hat{Q}[n] &= x_{\\text{Q, no shape}}[n] * h_{\\tiny{\\text{Pulse Form}}}[n] \\text{, } \\quad t= \\frac{n}{f_s}\n",
    "\\end{align*}"
   ]
  },
  {
   "cell_type": "markdown",
   "id": "71723e1d7aeefa5e",
   "metadata": {},
   "source": [
    "## Ende: Bildung des NumPy Arrays, welches die SDR _uhd_ Bibliothek bereitstellt\n",
    "\n",
    "Am Ende werden vom SDR die I und Q Komponenten wieder zu einem komplexen Signal zusammengefügt, dass im NumPy Array dann der Realteil eines Samples dessen I Sample enthält und der Imaginärteil dessen zugehörigen Q Sample enthält.\n",
    "\n",
    "Ein Sample am Index $n$ eines NumPy Arrays $\\text{Array}[n]$ enthält also die I- und Q-Komponente des $n$-ten Symbols:\n",
    "\n",
    "$$\n",
    "    \\text{Array}[n] = I[n] + j \\text{ } Q[n]\n",
    "$$\n",
    "\n",
    "\n",
    "\n",
    "## Diese Schritte werden nachfolgend einmal durchgeführt.\n",
    "\n",
    "\n",
    "\n"
   ]
  },
  {
   "cell_type": "markdown",
   "id": "d371e3a5cb909cbc",
   "metadata": {},
   "source": [
    "## 1. Heruntermischen des Signals in zurück in das Basisband\n",
    "\n",
    "- Der obere Teil des Empfänger Blockschaltbildes führt zum Erhalt des I-Anteils.\n",
    "- Der untere Teil des Empfänger Blockschaltbildes führt zum Erhalt des I-Anteils.\n"
   ]
  },
  {
   "cell_type": "markdown",
   "id": "9f84cb45fa17d48d",
   "metadata": {},
   "source": [
    "#### Aufgabe 13: Zeit\n",
    "- Berechnen Sie $\\hat{I}_{\\tiny{\\text{No Filter}}}(t)$ in `hat_i_no_filter`, um das heruntergemischte Signal zu erhalten\n",
    "$$\n",
    "     \\hat{I}_{\\tiny{\\text{No Filter}}}(t) = s_{\\tiny{\\text{HF}}}(t)  s_{\\text{c,I}}(t) \\text{,} \\quad \\text{ mit } s_{\\text{c,I}}(t) = \\cos(2 \\pi f_c t)\n",
    "$$\n",
    "- Berechnen Sie $\\hat{I}_{\\tiny{\\text{No Filter}}}(t)$ in `hat_q_no_filter`, um das heruntergemischte Signal zu erhalten\n",
    "$$\n",
    "     \\hat{I}_{\\tiny{\\text{No Filter}}}(t) = s_{\\tiny{\\text{HF}}}(t)  s_{\\text{c,I}}(t) \\text{,} \\quad \\text{ mit } s_{\\text{c,I}}(t) = \\cos(2 \\pi f_c t)\n",
    "$$\n",
    "- Erstellen Sie in passender Auflösung den zugehörigen Zeitvektor `t`\n",
    "#### Aufgabe 13: Frequenz\n",
    "- Berechnen Sie $\\hat{I}_{\\tiny{\\text{No Filter}}}(f) $ in `hat_i_no_filter_spectrum`, um das Spektrum des Signals zu erhalten\n",
    "$$\n",
    "     \\hat{I}_{\\tiny{\\text{No Filter}}}(f)  = \\mathfrak{F} \\{ \\hat{I}_{\\tiny{\\text{No Filter}}}(t)  \\}\n",
    "$$\n",
    "- Berechnen Sie $\\hat{Q}_{\\tiny{\\text{No Filter}}}(f) $ in `hat_q_no_filter_spectrum`, um das Spektrum des Signals zu erhalten\n",
    "$$\n",
    "     \\hat{Q}_{\\tiny{\\text{No Filter}}}(f)  = \\mathfrak{F} \\{ \\hat{Q}_{\\tiny{\\text{No Filter}}}(t)  \\}\n",
    "$$\n",
    "- Erstellen Sie in passender Auflösung den zugehörigen Frequenzvektor `f`"
   ]
  },
  {
   "cell_type": "code",
   "id": "15503e78988a58ef",
   "metadata": {},
   "source": [
    "hat_i_no_filter =\n",
    "hat_q_no_filter =\n",
    "\n",
    "t =\n",
    "\n",
    "\n",
    "hat_i_no_filter_spectrum =\n",
    "hat_q_no_filter_spectrum =\n",
    "\n",
    "f ="
   ],
   "outputs": [],
   "execution_count": null
  },
  {
   "cell_type": "code",
   "id": "8ea6d8fb07caba5e",
   "metadata": {},
   "source": [
    "plot_downmixed_signals(t, hat_i_no_filter, hat_i_no_filter_spectrum,\n",
    "                        hat_q_no_filter, hat_q_no_filter_spectrum, f, f_c)"
   ],
   "outputs": [],
   "execution_count": null
  },
  {
   "cell_type": "markdown",
   "id": "54b79a743c0a95c7",
   "metadata": {},
   "source": [
    "### 2. Tiefpassfilterung zur Berechnung von $\\hat{I}_{\\text{Filtered}}(t)$\n",
    "\n",
    "**Gegeben:**\n",
    "- Frequenzarray `f` (enthält Frequenzwerte in Hz)\n",
    "- Grafische Darstellung des Spektrums mit Frequenzachse in Hz\n",
    "\n",
    "**Problemstellung:**\n",
    "1. **Entfernung hochfrequenter Anteile** bei $-2f_c$ und $2f_c$\n",
    "2. Bestimmung der **Abschneidefrequenz** $f_k$ (kritische Frequenz in Hz):\n",
    "   - Direkt ablesbar aus der Spektrumsdarstellung\n",
    "   - Alternativ rechnerisch bestimmbar\n",
    "3. **Umsetzung in Python**:\n",
    "   - Nullsetzen aller Array-Werte außerhalb des gewünschten Spektrums\n",
    "   - Erfordert präzise Zuordnung von Frequenzwerten (Hz) zu Array-Indizes\n",
    "\n",
    "#### Aufgabe 14: Frequenz-zu-Index-Mapping\n",
    "Implementierung einer Funktion `convert_f_Hz_to_index`, die:\n",
    "- Eingabe: Einzelwert `f_Hz` (Ziel-Frequenz in Hz)\n",
    "- Eingabe: Frequenzarray `f` (NumPy-Array)\n",
    "- Ausgabe: Index $k$ desjenigen Array-Elements, das **am nächsten** an `f_Hz` liegt\n"
   ]
  },
  {
   "cell_type": "code",
   "id": "1d14da69a62e5ea5",
   "metadata": {},
   "source": [
    "def convert_f_Hz_to_index(f_Hz: float, f: np.ndarray) -> int:\n",
    "    \"\"\"\n",
    "    Findet den Index der Frequenz in einem Array `f`, die am nächsten zum Zielwert `f_Hz` liegt.\n",
    "\n",
    "    Diese Funktion berechnet den elementweisen absoluten Unterschied zwischen dem Frequenzarray `f`\n",
    "    und der Ziel-Frequenz `f_Hz` und gibt den Index des minimalen Unterschieds zurück.\n",
    "\n",
    "    Parameter:\n",
    "        f_Hz (float): Ziel-Frequenz in Hertz, für die der nächstgelegene Index gesucht wird.\n",
    "        f (np.ndarray): 1D-Array von Frequenzwerten in Hertz, typischerweise aus einer FFT- oder\n",
    "                        Frequenzanalyse generiert.\n",
    "\n",
    "    Rückgabe:\n",
    "        int: Index des Werts in `f`, der `f_Hz` am nächsten liegt. Bei mehreren gleichen Minima wird\n",
    "             der erste auftretende Index zurückgegeben.\n",
    "\n",
    "    Beispiele:\n",
    "        >>> f = np.array([0, 100, 200, 300, 400])  # Frequenzarray in Hz\n",
    "        >>> convert_f_Hz_to_index(250, f)\n",
    "        2 # da 200 näher an 250 liegt als 300\n",
    "        >>> convert_f_Hz_to_index(300, f)\n",
    "        3 # exakte Übereinstimmung\n",
    "\n",
    "    Anwendungskontext:\n",
    "        - Nützlich zur Identifikation von Frequenzbändern in Fourier-Transformationen (FFT)\n",
    "        - Mapping von physikalischen Frequenzen auf diskrete Frequenz-Indizes in Spektralanalysen\n",
    "    \"\"\"\n",
    "    return None\n"
   ],
   "outputs": [],
   "execution_count": null
  },
  {
   "cell_type": "markdown",
   "id": "dc1df3b5d920fb01",
   "metadata": {},
   "source": [
    "### Design eines Filters\n",
    "\n",
    "Ziel: Das Spektrum des heruntergemischten Signals $\\mathfrak{F}\\{\\hat{I}_{\\text{NoFilter}}(t)\\}$ & $\\mathfrak{F}\\{\\hat{Q}_{\\text{NoFilter}}(t)\\}$  soll durch Entfernen der Störungen bei $\\pm 2f_c$ so bereinigt werden, dass im Idealfall die Hauptkomponenten des ursprüngliche Sendesignal-Spektrum $\\mathfrak{F}\\{x_{\\text{I, shaped}}(t)\\}$ & $\\mathfrak{F}\\{x_{\\text{Q, shaped}}(t)\\}$ (vor der Hochmischung) übrig bleiben.\n",
    "\n",
    "$$\n",
    "    \\hat{I}_{\\text{NoFilter}}(t) = \\frac{1}{2} I(t) \\cos(4\\pi f_{\\text{c}} t) - \\frac{1}{2} Q(t) \\sin(4\\pi f_{\\text{c}} t) + \\frac{1}{2} I(t)\n",
    "$$\n",
    "$$\n",
    "    \\hat{Q}_{\\text{NoFilter}}(t) = - \\frac{1}{2} I(t) \\sin(4\\pi f_{\\text{c}} t) - \\frac{1}{2} Q(t) \\cos(4\\pi f_{\\text{c}} t) + \\frac{1}{2} Q(t)\n",
    "$$\n",
    "\n",
    "#### Aufgabe 15:\n",
    "- Designen Sie ein solches Filter $H_{\\tiny{\\text{TP}}}(f)$ in `H_tp`, welches das Ziel erreichen kann (Hinweis: Ein Rechteck Signal $\\text{rect}(f)$ könnte ein solches Verhalten erzielen)\n",
    "- Erstellen Sie in passender Auflösung den zugehörigen Frequenzvektor `f`\n",
    "- Verwenden Sie dabei die oben implementierte Funktion `convert_f_Hz_to_index`, welche `f_Hz` auf dessen Frequenzindex $k$ abbildet.\n",
    "- Vergessen Sie nicht mit dem Filter gleichzeitig den Faktor $\\frac{1}{2}$ im letzten Summanden aus $\\hat{I}_{\\text{NoFilter}}(t)$ `I_hat_i_no_filter` zu korrigieren."
   ]
  },
  {
   "cell_type": "code",
   "id": "f5f5e68c067608b2",
   "metadata": {},
   "source": [
    "f =\n",
    "\n",
    "H_tp =\n",
    "\n",
    "\n",
    "border = # rechte Grenze des Rechtecks in Hz"
   ],
   "outputs": [],
   "execution_count": null
  },
  {
   "cell_type": "code",
   "id": "9f9417399fe634e4",
   "metadata": {},
   "source": [
    "plot_lowpass_filter(f, H_tp, border)"
   ],
   "outputs": [],
   "execution_count": null
  },
  {
   "cell_type": "markdown",
   "id": "1fa6526b89979705",
   "metadata": {},
   "source": [
    "#### Aufgabe 16:\n",
    "- Wenden Sie $H_{\\tiny{\\text{TP}}}(f)$ auf $\\hat{I}_{\\text{NoFilter}}(f)$ und legen Sie das Ergebnis in `hat_i_filtered_spectrum` ab:\n",
    "$$\n",
    "    \\hat{I}_{\\text{Filtered}}(f) = \\hat{I}_{\\text{NoFilter}}(f) \\cdot H_{\\tiny{\\text{TP}}}(f)\n",
    "$$\n",
    "- Wenden Sie $H_{\\tiny{\\text{TP}}}(f)$ auf $\\hat{Q}_{\\text{NoFilter}}(f)$ und legen Sie das Ergebnis in `hat_q_filtered_spectrum` ab:\n",
    "$$\n",
    "    \\hat{Q}_{\\text{Filtered}}(f) = \\hat{Q}_{\\text{NoFilter}}(f) \\cdot H_{\\tiny{\\text{TP}}}(f)\n",
    "$$\n",
    "- Erstellen Sie in passender Auflösung den zugehörigen Frequenzvektor `f`\n"
   ]
  },
  {
   "cell_type": "code",
   "id": "97773985251d6d2a",
   "metadata": {},
   "source": [
    "hat_i_filtered_spectrum =\n",
    "hat_q_filtered_spectrum =\n",
    "f ="
   ],
   "outputs": [],
   "execution_count": null
  },
  {
   "cell_type": "code",
   "id": "6324ec4c6379a63a",
   "metadata": {},
   "source": [
    "plot_filtered_spectra(f, hat_i_filtered_spectrum, hat_q_filtered_spectrum)"
   ],
   "outputs": [],
   "execution_count": null
  },
  {
   "cell_type": "markdown",
   "id": "aab50fd7cd445949",
   "metadata": {},
   "source": [
    "#### Aufgabe 17:\n",
    "- Transformieren Sie nun $\\hat{I}_{\\text{Filtered}}(f)$ wieder in den Zeitbereich und wenden darauf die Umkehrung des Oversamplings `invert_oversampling` und speichern das Ergebnis in `hat_i_filtered`\n",
    "- Transformieren Sie nun $\\hat{Q}_{\\text{Filtered}}(f)$ wieder in den Zeitbereich und wenden darauf die Umkehrung des Oversamplings `invert_oversampling` und speichern das Ergebnis in `hat_q_filtered`\n",
    "- Erstellen Sie dazu einen passenden Zeitvektor `t`\n",
    "    - Da Sie das Oversampling umgekehrt haben, müssen Sie den `oversampling_factor` hier auch nicht mehr berücksichtigen"
   ]
  },
  {
   "cell_type": "code",
   "id": "470fd29735d4fb15",
   "metadata": {},
   "source": [
    "hat_i_filtered =\n",
    "hat_q_filtered =\n",
    "\n",
    "t ="
   ],
   "outputs": [],
   "execution_count": null
  },
  {
   "cell_type": "code",
   "id": "27b76aab90683ad5",
   "metadata": {},
   "source": [
    "plot_filtered_signals(t, hat_i_filtered, x_i_shaped, hat_q_filtered, x_q_shaped, params, symbols)"
   ],
   "outputs": [],
   "execution_count": null
  },
  {
   "cell_type": "code",
   "id": "e91c5a48fe788729",
   "metadata": {},
   "source": [
    "plot_signals(t, x_i_shaped, x_q_shaped, s_hf[::oversampling_factor], hat_i_filtered, hat_q_filtered)"
   ],
   "outputs": [],
   "execution_count": null
  },
  {
   "cell_type": "markdown",
   "id": "b6c554be05bf32de",
   "metadata": {},
   "source": "# Frage: Woher kommen wenn ein Rechteck als Basisbandpulsform verwendet wird unten nach der Tiefpassfilterung die Überschwinger?\n"
  },
  {
   "cell_type": "code",
   "id": "b2517c33b81c5f89",
   "metadata": {},
   "source": [
    "f = np.fft.fftshift(np.fft.fftfreq(hat_i_filtered.size, params.baseband.T_sample))\n",
    "\n",
    "base_band_pulse = RectPulse(T_s=params.baseband.T_s, num_samples=hat_i_filtered.size, sps=params.baseband.sps) if params.baseband.pulseform is BasebandPulseForm.RECT else RaisedCosinePulse(T_s=params.baseband.T_s, num_samples=hat_i_filtered.size, sps=params.baseband.sps, roll_off=params.baseband.roll_off)\n",
    "\n",
    "hat_i_filtered_normalized   = normalize_energy(hat_i_filtered)\n",
    "x_i_shaped_normalized       = normalize_energy(x_i_shaped)\n",
    "baseband_signal_normalized  = normalize_energy(base_band_pulse.generate_pulse())\n",
    "\n",
    "plot_spectra(f, baseband_signal_normalized, x_i_shaped_normalized, hat_i_filtered_normalized)"
   ],
   "outputs": [],
   "execution_count": null
  },
  {
   "cell_type": "markdown",
   "id": "89caaa5fb202c659",
   "metadata": {},
   "source": [
    "## 3. ADC von $\\hat{I}_{\\tiny{\\text{Filtered}}}(t)$ & $\\hat{Q}_{\\tiny{\\text{Filtered}}}(t)$\n",
    "\n",
    "#### Aufgabe 18:\n",
    "- Führen sie das Sampling für $\\hat{I}_{\\tiny{\\text{Filtered}}}(t)$, welches in `I_hat_i_filtered` gespeichert ist aus (Hinweis: $f_s =$ `params.baseband.sps`)\n",
    "- Aufgrund des Filterns wurde $\\hat{I}_{\\tiny{\\text{Filtered}}}(t)$ komplex\n",
    "- Speichern Sie den Realteil der Samples in `real_part`\n",
    "- Führen Sie `real_part` und `imag_part` in ein NumPy Array `sdr_iq_samples` vom Typ `np.complex64` zusammen, wobei: `sdr_iq_samples`$[i] =$ `real_part`$[i]$ + $j$ ` imag_part`$[i]$\n",
    "- Dies ist das Ergebnis, welches Ihnen die uhd Bibliothek nach einer Messung bereitstellt"
   ]
  },
  {
   "cell_type": "code",
   "id": "c12d9d5fbd301903",
   "metadata": {},
   "source": [
    "real_part =\n",
    "imag_part =\n",
    "\n",
    "# Das SDR liefert nun daraus ein NumpPy Array mit dem dtype complex64\n",
    "sdr_iq_samples =\n",
    "sdr_iq_samples"
   ],
   "outputs": [],
   "execution_count": null
  },
  {
   "cell_type": "code",
   "id": "8ca8224b31c40e28",
   "metadata": {},
   "source": [
    "plot_iq_samples(x=sdr_iq_samples)"
   ],
   "outputs": [],
   "execution_count": null
  },
  {
   "cell_type": "markdown",
   "id": "a07a801f6fdf7020",
   "metadata": {},
   "source": [
    "# RX: Synchronisation, Equalization & Demodulation\n",
    "\n",
    "## Synchronisation\n",
    "\n",
    "Zur Synchronisation soll ein Korrelationsempfänger implementiert werden. Dazu wird die Maximum Correlation verwendet.\n",
    "\n",
    "- Gegeben seien die Empfangssamples $r[n]$. Darin findet sich die Rahmenstruktur des TX wieder, somit auch die Synchronisationssequenz $x[n]$. Allerdings wurden die Samples des Frames zeitlich verschoben. Es ist also unbekannt, an welchem Index $n$ der Frame in $r[n]$ beginnt.\n",
    "- Ziel: Finden des Startzeitsamples $\\tau_0$ der bekannten Synchronisationssequenz $x[n]$, welche sich in $r[n]$ befindet.\n",
    "- Mathematische Operation:\n",
    "\n",
    "$$\n",
    "\\tau_0 = \\underset{\\tau}{\\text{argmax}} \\left\\{ \\sum_{n = 0}^{N-1} r[n + \\tau] \\text{ } \\overline{x[n]} \\right\\}\n",
    "$$\n",
    "\n",
    "- $N$ ist die Anzahl der Samples der Synchronisationssequenz $x[n]$\n",
    "\n",
    "Aufgrund der Korrelationseigenschaften der verwendeteten Sychronisationssequenz, ensteht das Maximum genau dann, wenn die bekannte Sequenz $x[n]$ und die Synchronisationssequenz $\\hat{x}[n]$ im Empfangssignal genau übereinander liegen."
   ]
  },
  {
   "cell_type": "code",
   "id": "346a0242c3f6cc7a",
   "metadata": {},
   "source": [
    "iq_receiver = IQReceiver(\n",
    "    params=params,\n",
    "    sdr_samples=sdr_iq_samples,\n",
    "    known_sync_seq=iq_sender.sync_seq,\n",
    "    symbols_without_zero_padding=iq_sender.modulation_symbols.size\n",
    ")"
   ],
   "outputs": [],
   "execution_count": null
  },
  {
   "cell_type": "markdown",
   "id": "1c33bf441f20b117",
   "metadata": {},
   "source": [
    "### Aufgabe 19: Korrelationsempfänger\n",
    "\n",
    "Diese und die nachfolgenden Aufgaben, werden wieder wie auch im obigen Teil des Notebooks außerhalb des Notebooks implementiert.\n",
    "\n",
    "- Die obige Formel zur Synchronisation soll in der Python Funktion utilities/IQReceiver/IQReceiver.time_synchronization() implementiert werden.\n",
    "- Das Mapping zwischen Formelzeichen und IQSender Variable ist gegeben durch:\n",
    "    - $r[n]$ -> `self.sdr_samples`\n",
    "    - $x[n]$ -> `self.known_sync_sec`\n",
    "- Output: Tupel (tau0, corr)\n",
    "    - tau0 ist ein Integer, dessen Wert der Index des Maximums vom Korrelationsergebnis sein soll\n",
    "    - corr ist das Korrelationsergebnis\n",
    "\n",
    "\n"
   ]
  },
  {
   "cell_type": "code",
   "id": "af0947d9363bd731",
   "metadata": {},
   "source": [
    "tau0, corr = iq_receiver.time_synchronization()\n",
    "plt.axvline(iq_receiver.tau0, color='r', linestyle='--')\n",
    "plt.plot(np.abs(corr))\n",
    "plt.grid(True)"
   ],
   "outputs": [],
   "execution_count": null
  },
  {
   "cell_type": "code",
   "id": "cd92db303e85c6be",
   "metadata": {},
   "source": [
    "print(f\"tau0: {tau0}\")\n",
    "print(f\"rx len: {len(sdr_iq_samples)}\")\n"
   ],
   "outputs": [],
   "execution_count": null
  },
  {
   "cell_type": "code",
   "id": "7cd27758e1c1167d",
   "metadata": {},
   "source": [
    "plot_frame(frame_params=params.frame, zero_padded_indexes=zero_padded_indexes)"
   ],
   "outputs": [],
   "execution_count": null
  },
  {
   "cell_type": "markdown",
   "id": "689788c74efadb02",
   "metadata": {},
   "source": [
    "## Extraktion der Nutzdatensamples aus $r[n]$ mithilfe von $\\tau_0$\n",
    "\n",
    "$r[n]$ enthält jede Menge Samples der simulierten Messung, die nicht zum Frame gehören, welcher extrahiert werden soll. Daher soll dieser Schritt alle Samples extrahieren, welche Teil des Frames sind. Alle anderen Samples sollen verworfen werden.\n",
    "\n",
    "- Da Sie nun $\\tau_0$ kennen, wissen Sie, ab welchem Index der Frame im Empfangssignal `iq_receiver.sdr_samples` liegt.\n",
    "- Sie wissen, dass der blaue Teil (Synchronisationssequenz) im Frame oben `frame.num_sync_syms` Samples hat\n",
    "- Sie wissen, dass der graue Teil danach (Daten & Piloten)\n",
    " `params.frame.num_data_syms` Samples lang ist.\n",
    "\n",
    "### Aufgabe 20: Extraktion der Frame Samples\n",
    "- Implementieren Sie die Funktion IQSender.extract_frame_samples(), welche alle Samples, die zum Frame gehören extrahiert."
   ]
  },
  {
   "cell_type": "code",
   "id": "b778bf2a8c1bee8b",
   "metadata": {},
   "source": [
    "data_symbols_received = iq_receiver.extract_frame_samples()\n",
    "data_symbols_received.shape"
   ],
   "outputs": [],
   "execution_count": null
  },
  {
   "cell_type": "markdown",
   "id": "c0a07d693e1401af",
   "metadata": {},
   "source": [
    "## MCS Detection & Equalization\n",
    "\n",
    "Die Information, welches MCS verwendet wurde steckt in der zyklischen Verschiebung der Zadoff-Chu Sequenz, welche als Piloten Sequenz verwendet wurde.\n",
    "\n",
    "Ziel: Basis Sequenz bekannt --> zyklischer Verschiebungsindex muss erkannt werden. [Mapping MCS Verschiebungsindex](/utilities/enums/ModulationCodingSchemeShift.py)"
   ]
  },
  {
   "cell_type": "markdown",
   "id": "bc7534b15d0ff0b3",
   "metadata": {},
   "source": [
    "#### 1. Nachbilden der bekannten Sequenz aus den Parametern der Übertragung\n",
    "\n",
    "- Es ist im `IQSender.py` in `self.params.frame.pilot_zc_root` die Wurzel der Basis ZC-Sequenz bekannt.\n",
    "- Die Länge der Pilotensequenz ergibt sich aus dem konfigurierten Pattern: `self.frame_params.num_data_syms` & `self.frame_params.pilot_repetition` (Siehe Frame Plot)\n",
    "\n",
    "## Aufgabe 21: Generierung der Basis Piloten-Sequenz\n",
    "- Implementieren Sie die Funktion IQReceiver.get_base_pilot_seq(), welche die bekannte nicht zyklisch verschobene Pilotensequenz nachbildet\n",
    "- Hinweis: Verwenden Sie hierzu `SynchronizationSequences.zadoff_chu_sequence`\n",
    "    - Die Wurzel ist im IQReceiver unter `self.params.frame.pilot_zc_root` abrufbar"
   ]
  },
  {
   "cell_type": "code",
   "id": "1faf1a7dfe44481d",
   "metadata": {},
   "source": [
    "known_base_pilot_seq = iq_receiver.get_base_pilot_seq()"
   ],
   "outputs": [],
   "execution_count": null
  },
  {
   "cell_type": "markdown",
   "id": "10766c6c92de0cb5",
   "metadata": {},
   "source": [
    "### 2. Extraktion der Pilotensequenz aus den Empfangssamples aus dem Datenteil\n",
    "\n",
    "Für die einfachere Handhabung für die Erkennung des Verschiebungsindexes soll im nächsten Schritt die vom Sender gemultiplexte Pilotensequenz aus `iq_receiver.frame_samples` extrahiert werden.\n",
    "\n",
    "#### Aufgabe 22: Extraktion der Pilotensequenz\n",
    "\n",
    "- Implementieren Sie die Funktion demultiplex_pilots() in IQReceiver.\n",
    "- Sie brauchen hierzu die Indexe der Pilotensymbole aus `self.params.frame.num_data_syms` und `self.params.frame.pilot_repetition`"
   ]
  },
  {
   "cell_type": "code",
   "id": "f56a9b2c7a924551",
   "metadata": {},
   "source": [
    "pilot_seq = iq_receiver.demultiplex_pilots()"
   ],
   "outputs": [],
   "execution_count": null
  },
  {
   "cell_type": "markdown",
   "id": "f9e76966d19d887",
   "metadata": {},
   "source": [
    "### 3. Zyklische Korrelation der Pilotensequenz & Extraktion des Verschiebungsindexes\n",
    "\n",
    "#### Aufgabe 23: Zyklische Korrelation\n",
    "\n",
    "- Berechnen Sie die zyklische Korrelation in der Funktion estimate_mcs_shift() im IQReceiver zwischen:\n",
    "    - `self.base_pilot_seq` & `self.pilot_seq`\n",
    "- Output: Tupel (corr, corr_max)\n",
    "    - corr: Ergebnis der zyklischen Korrelation, normiert auf 1\n",
    "    - corr_max: Index des Maximums der zyklischen Korrelation\n",
    "- Hinweis: Eine zyklische Korrelation lässt sich einfach und effizient mithilfe der FFT berechnen."
   ]
  },
  {
   "cell_type": "code",
   "id": "99db84a56440087a",
   "metadata": {},
   "source": "cyclic_correlation, mcs_shift = iq_receiver.estimate_mcs_shift()",
   "outputs": [],
   "execution_count": null
  },
  {
   "cell_type": "code",
   "id": "ac408bc0d34ffe7e",
   "metadata": {},
   "source": [
    "plt.plot(cyclic_correlation)\n",
    "plt.ylim(np.min(cyclic_correlation) * 1.2, 1.2)\n",
    "\n",
    "bpsk = ModulationCodingSchemeShift.BPSK.value\n",
    "qpsk = ModulationCodingSchemeShift.QPSK.value\n",
    "qam16 = ModulationCodingSchemeShift.QAM16.value\n",
    "plt.xticks([0, bpsk, qpsk, qam16, cyclic_correlation.size-1], [\"0\", \"BPSK\", \"QPSK\", \"QAM16\", f\"{cyclic_correlation.size-1}\"])\n",
    "plt.grid(True)"
   ],
   "outputs": [],
   "execution_count": null
  },
  {
   "cell_type": "markdown",
   "id": "f10a6d3bf8c1a8ad",
   "metadata": {},
   "source": [
    "#### Mapping des Verschiebungsindexes `mcs_shift` auf MCS\n",
    "\n",
    "Maximum $\\hat{=}$ Verschiebungsindex (Korrelationseigenschaft)\n"
   ]
  },
  {
   "cell_type": "code",
   "id": "dbed9d86e3954838",
   "metadata": {},
   "source": [
    "if ModulationCodingSchemeShift.BPSK.value == mcs_shift:\n",
    "    mcs = ModulationCodingScheme.BPSK\n",
    "elif ModulationCodingSchemeShift.QPSK.value == mcs_shift:\n",
    "    mcs = ModulationCodingScheme.QPSK\n",
    "elif ModulationCodingSchemeShift.QAM16.value == mcs_shift:\n",
    "    mcs = ModulationCodingScheme.QAM16\n",
    "else:\n",
    "    raise Exception(\"MCS could not be detected.\")\n",
    "\n",
    "print(mcs)"
   ],
   "outputs": [],
   "execution_count": null
  },
  {
   "cell_type": "markdown",
   "id": "2bb6210d9ddce17b",
   "metadata": {},
   "source": [
    "# Equalization"
   ]
  },
  {
   "cell_type": "markdown",
   "id": "47646fad9cbf254a",
   "metadata": {},
   "source": [
    "### Berechnung der Pilotensequenz die tatsächlich verwendet wurde\n",
    "\n",
    "Sie wissen nun welcher Verschiebungsindex `self.mcs_shift` auf die Basissequenz angewendet wurde.\n",
    "\n",
    "Die Basissequenz im IQSender haben Sie in Aufgabe 21 bereits berechnet und kann unter `self.base_pilot_seq` abgerufen werden.\n",
    "\n",
    "#### Aufgabe 24: Berechnung der tatsächlich verwendeten Pilotensequenz\n",
    "\n",
    "- Wenden Sie in calculate_used_pilot_seq() im IQReceiver eine zyklische Verschiebung nach rechts auf `self.base_pilot_seq` um `self.mcs_shift` Positionen an."
   ]
  },
  {
   "cell_type": "code",
   "id": "b3e65007c201f64e",
   "metadata": {},
   "source": [
    "used_pilot_seq = iq_receiver.calculate_used_pilot_seq()\n"
   ],
   "outputs": [],
   "execution_count": null
  },
  {
   "cell_type": "markdown",
   "id": "4a7d703022f3d4cd",
   "metadata": {},
   "source": [
    "## Equalization: Jeder Pilot entzerrt die nachfolgenden Datensymbole bis zum nächsten Piloten, ...\n",
    "\n",
    "In der vorigen Aufgabe haben Sie die tatstächlich vom Sender verwendete Pilotensequenz bestimmt. Diese ist im IQSender nun in `self.used_pilot_seq` verfügbar.\n",
    "\n",
    "Da sie nun genau wissen welche Symbole ursprünglich ausgesendet wurden, können Sie die Pilotensequenz nun für die Equalization der Datensymbole verwenden.\n",
    "#### Aufgabe 25: Kanalschätzung und Equalization\n",
    "\n",
    "- Implementieren Sie die Funktion channel_equalization() in IQReceiver.\n",
    "- Basierend auf einem Pilotensymbol können sie den Kanal schätzen\n",
    "- Diese Schätzung können Sie dann für die Equalization der nachfolgendenden Datensymbole bis zum nächsten Piloten verwenden, ...\n",
    "- Hinweis: Für das Indexing kann der obige Frame Plot hilfreich sein."
   ]
  },
  {
   "cell_type": "code",
   "id": "9e8dd2962bffe915",
   "metadata": {},
   "source": [
    "data_symbols_received_eq = iq_receiver.channel_equalization()"
   ],
   "outputs": [],
   "execution_count": null
  },
  {
   "cell_type": "markdown",
   "id": "56724f70ead4ef84",
   "metadata": {},
   "source": [
    "#### Aufgabe 26: Auslesen der entzerrten Datensymbole\n",
    "\n",
    "Ziel: Ein Array, welches ausschließlich aus Datensymbolen besteht (keine Piloten).\n",
    "\n",
    "- Implementieren Sie die Funktion remove_pilot_symbols() im IQReceiver\n",
    "- Aus `self.frame_samples` sollen die Datensymbole ohne Piloten ausgelesen werden\n",
    "- Hinweis: Für das Indexing kann der obige Frame Plot hilfreich sein."
   ]
  },
  {
   "cell_type": "code",
   "id": "a871f8eb9d85637f",
   "metadata": {},
   "source": [
    "data_symbols_without_pilots = iq_receiver.remove_pilot_symbols()"
   ],
   "outputs": [],
   "execution_count": null
  },
  {
   "cell_type": "markdown",
   "id": "7d889e7a34f5e081",
   "metadata": {},
   "source": [
    "#### Aufgabe 27: Entfernen der Zero-Padding-Symbole\n",
    "\n",
    "Ziel: Ein Array, welches ausschließlich aus Datensymbolen besteht (keine Piloten und auch keine Symbole, die durch Zero-Padding entstanden sind).\n",
    "\n",
    "- Implementieren Sie die Funktion remove_zero_padded_symbols im IQReceiver\n",
    "- Aus `self.frame_samples_without_pilots` sollen die Zero-Padding Symbole entfernt werden\n",
    "- Die Information über die Anzahl der Datensymbole ohne Zero-Padding ist unter `self.symbols_without_zero_padding` verfügbar.\n",
    "- Hinweis: Für das Indexing kann der obige Frame Plot hilfreich sein."
   ]
  },
  {
   "cell_type": "code",
   "id": "5934656f396ee879",
   "metadata": {},
   "source": [
    "data_symbols_without_pilots_and_zero_padding = iq_receiver.remove_zero_padded_symbols()"
   ],
   "outputs": [],
   "execution_count": null
  },
  {
   "cell_type": "code",
   "id": "ddb68108e5a84d55",
   "metadata": {},
   "source": [
    "data_symbols_received.size, data_symbols_received_eq.size"
   ],
   "outputs": [],
   "execution_count": null
  },
  {
   "cell_type": "code",
   "id": "6e40383e770f6e10",
   "metadata": {},
   "source": [
    "plot_iq_symbols(data_symbols_received[:iq_sender.modulation_symbols.size], data_symbols_received_eq[:iq_sender.modulation_symbols.size], params, params.frame.pilot_start_idx, params.frame.pilot_repetition)"
   ],
   "outputs": [],
   "execution_count": null
  },
  {
   "cell_type": "markdown",
   "id": "50f52cccc1fddd69",
   "metadata": {},
   "source": [
    "#### Aufgabe 28: Demodulation\n",
    "\n",
    "Implementieren Sie für BPSK und QPSK die Demodulation in utilities/IQReceiver/Demodulator.py.\n",
    "\n",
    "Die Signaturen der Funktionen sind bereits definiert."
   ]
  },
  {
   "cell_type": "code",
   "id": "35bea0a63a560c28",
   "metadata": {},
   "source": [
    "data_bits_received = iq_receiver.demodulate()\n",
    "print(f\"used Modulation Coding Scheme = {mcs}\")\n",
    "print(\"bits^hat = \", data_bits_received)\n",
    "print(\"bits     = \", data_bits)"
   ],
   "outputs": [],
   "execution_count": null
  }
 ],
 "metadata": {
  "kernelspec": {
   "display_name": "Python 3 (ipykernel)",
   "language": "python",
   "name": "python3"
  },
  "language_info": {
   "codemirror_mode": {
    "name": "ipython",
    "version": 3
   },
   "file_extension": ".py",
   "mimetype": "text/x-python",
   "name": "python",
   "nbconvert_exporter": "python",
   "pygments_lexer": "ipython3",
   "version": "3.11.11"
  }
 },
 "nbformat": 4,
 "nbformat_minor": 5
}
