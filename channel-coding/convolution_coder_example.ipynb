{
 "cells": [
  {
   "cell_type": "code",
   "id": "initial_id",
   "metadata": {
    "collapsed": true,
    "ExecuteTime": {
     "end_time": "2025-01-25T17:36:48.261631Z",
     "start_time": "2025-01-25T17:36:48.258505Z"
    }
   },
   "source": [
    "import numpy as np\n",
    "from matplotlib import pyplot as plt\n",
    "from sionna.fec.turbo import TurboEncoder, TurboDecoder\n",
    "from PIL import Image\n",
    "import io"
   ],
   "outputs": [],
   "execution_count": 155
  },
  {
   "metadata": {
    "ExecuteTime": {
     "end_time": "2025-01-25T17:36:48.284016Z",
     "start_time": "2025-01-25T17:36:48.280768Z"
    }
   },
   "cell_type": "code",
   "source": [
    "def encode_string(s):\n",
    "    # Convert the string to a list of ASCII values\n",
    "    ascii_values = [ord(c) for c in s]\n",
    "\n",
    "    # Convert each ASCII value to an 8-bit binary representation\n",
    "    bit_arrays = [np.array(list(format(val, '08b')), dtype=np.int32) for val in ascii_values]\n",
    "\n",
    "    # Flatten the list of bit arrays into a single array\n",
    "    bit_array = np.concatenate(bit_arrays)\n",
    "\n",
    "    # Reshape array to have a single row\n",
    "    bit_array = bit_array.reshape(1, -1)\n",
    "\n",
    "    return bit_array\n",
    "\n",
    "def decode_string(bit_array):\n",
    "    # Ensure the array is 1-dimensional\n",
    "    bit_array = np.array(bit_array.flatten(), dtype=int)\n",
    "\n",
    "    # Split the bit array into chunks of 8 bits\n",
    "    n = 8\n",
    "    byte_chunks = [bit_array[i:i + n] for i in range(0, len(bit_array), n)]\n",
    "\n",
    "    # Convert each chunk of 8 bits to an ASCII value\n",
    "    ascii_values = [int(''.join(map(str, chunk)), 2) for chunk in byte_chunks]\n",
    "\n",
    "    # Convert the ASCII values to characters and join them into a string\n",
    "    string = ''.join(chr(val) for val in ascii_values)\n",
    "\n",
    "    return string\n"
   ],
   "id": "227908c3df46fd26",
   "outputs": [],
   "execution_count": 156
  },
  {
   "metadata": {
    "ExecuteTime": {
     "end_time": "2025-01-25T17:36:48.288785Z",
     "start_time": "2025-01-25T17:36:48.286208Z"
    }
   },
   "cell_type": "code",
   "source": [
    "def encode_image_to_binary_array(image_path):\n",
    "    # Bild öffnen und in Schwarz-Weiß konvertieren\n",
    "    with Image.open(image_path) as img:\n",
    "        img = img.convert('1')  # '1' steht für 1-bit Pixel, schwarz und weiß\n",
    "\n",
    "    # Bild in NumPy-Array konvertieren\n",
    "    img_array = np.array(img)\n",
    "\n",
    "    # Array in 1D umformen und in int32 konvertieren\n",
    "    binary_array = img_array.flatten().astype(np.int32)\n",
    "\n",
    "    # In das gewünschte Format [[databits]] umwandeln\n",
    "    return np.array([binary_array])\n",
    "\n",
    "\n",
    "def decode_binary_array_to_image(binary_array, original_shape):\n",
    "    # Array zurück in 2D-Form bringen\n",
    "    img_array = binary_array.reshape(original_shape)\n",
    "\n",
    "    # NumPy-Array in ein Bild konvertieren\n",
    "    img = Image.fromarray((img_array * 255).astype(np.uint8))\n",
    "\n",
    "    # Bild in Bytes-Objekt umwandeln\n",
    "    img_byte_arr = io.BytesIO()\n",
    "    img.save(img_byte_arr, format='PNG')\n",
    "\n",
    "    return img_byte_arr.getvalue()"
   ],
   "id": "d6fdb3d36ecc5f02",
   "outputs": [],
   "execution_count": 157
  },
  {
   "metadata": {
    "ExecuteTime": {
     "end_time": "2025-01-25T17:36:48.297145Z",
     "start_time": "2025-01-25T17:36:48.294843Z"
    }
   },
   "cell_type": "code",
   "source": [
    "def split_into_fragments(u, frame_length=6144):\n",
    "    # Berechne die Anzahl der Fragmente\n",
    "    num_fragments = int(np.ceil(u.size / frame_length))\n",
    "\n",
    "    # Erstelle eine Liste, um die Fragmente zu speichern\n",
    "    fragments = []\n",
    "\n",
    "    # Teile das Array u in Fragmente der Größe frame_length\n",
    "    for i in range(num_fragments):\n",
    "        start_idx = i * frame_length\n",
    "        end_idx = min((i + 1) * frame_length, u.size)\n",
    "        fragment = u[0, start_idx:end_idx]\n",
    "        fragments.append(fragment)\n",
    "\n",
    "    # Konvertiere die Liste der Fragmente in ein NumPy-Array\n",
    "    fragments = np.array(fragments)\n",
    "\n",
    "    return fragments"
   ],
   "id": "ee8a0955ec015735",
   "outputs": [],
   "execution_count": 158
  },
  {
   "metadata": {
    "ExecuteTime": {
     "end_time": "2025-01-25T17:36:48.312463Z",
     "start_time": "2025-01-25T17:36:48.303690Z"
    }
   },
   "cell_type": "code",
   "source": [
    "encoder = TurboEncoder(constraint_length=4, # Desired constraint length of the polynomials\n",
    "                       rate=1/3,  # Desired rate of Turbo code\n",
    "                       terminate=True) # Terminate the constituent convolutional encoders to all-zero state\n",
    "\n",
    "\n",
    "# the decoder can be initialized with a reference to the encoder\n",
    "decoder = TurboDecoder(encoder,\n",
    "                       num_iter=6, # Number of iterations between component BCJR decoders\n",
    "                       algorithm=\"map\", # can be also \"maxlog\"\n",
    "                       hard_out=True) # hard_decide output"
   ],
   "id": "726d4d7db2607f20",
   "outputs": [],
   "execution_count": 159
  },
  {
   "metadata": {},
   "cell_type": "markdown",
   "source": "# Encode Data",
   "id": "2b72cefb2242634f"
  },
  {
   "metadata": {},
   "cell_type": "markdown",
   "source": "## Text Encoding",
   "id": "ee7cbb37f2913dd"
  },
  {
   "metadata": {
    "ExecuteTime": {
     "end_time": "2025-01-25T17:36:48.319738Z",
     "start_time": "2025-01-25T17:36:48.318008Z"
    }
   },
   "cell_type": "code",
   "source": [
    "# Originale Informationsbits\n",
    "#u = np.array([[1, 0, 1, 0]], dtype=np.int32)\n",
    "string_message = \"Hallo!\"\n",
    "u = encode_string(string_message)\n",
    "print(\"Originale Bits:\", u)"
   ],
   "id": "d125a4073288430",
   "outputs": [
    {
     "name": "stdout",
     "output_type": "stream",
     "text": [
      "Originale Bits: [[0 1 0 0 1 0 0 0 0 1 1 0 0 0 0 1 0 1 1 0 1 1 0 0 0 1 1 0 1 1 0 0 0 1 1 0\n",
      "  1 1 1 1 0 0 1 0 0 0 0 1]]\n"
     ]
    }
   ],
   "execution_count": 160
  },
  {
   "metadata": {},
   "cell_type": "markdown",
   "source": "# Channel Coding",
   "id": "b7a9aca2c3629091"
  },
  {
   "metadata": {
    "ExecuteTime": {
     "end_time": "2025-01-25T17:36:48.384395Z",
     "start_time": "2025-01-25T17:36:48.326931Z"
    }
   },
   "cell_type": "code",
   "source": [
    "# Kodierung\n",
    "c = encoder(u)\n",
    "encoded = c.numpy()\n",
    "print(\"Kodierte Bits:    \", encoded)"
   ],
   "id": "5df140e2f2fa7f6c",
   "outputs": [
    {
     "name": "stdout",
     "output_type": "stream",
     "text": [
      "Kodierte Bits:     [[0. 0. 0. 1. 1. 0. 0. 1. 0. 0. 1. 1. 1. 0. 0. 0. 1. 1. 0. 1. 0. 0. 0. 1.\n",
      "  0. 0. 0. 1. 0. 0. 1. 0. 1. 0. 1. 0. 0. 1. 0. 0. 0. 0. 0. 0. 0. 1. 0. 0.\n",
      "  0. 1. 1. 1. 1. 0. 1. 0. 0. 0. 1. 0. 1. 1. 1. 1. 0. 1. 0. 1. 0. 0. 0. 0.\n",
      "  0. 0. 1. 1. 0. 1. 1. 0. 1. 0. 1. 0. 1. 0. 0. 1. 0. 1. 0. 0. 0. 0. 1. 0.\n",
      "  0. 1. 0. 1. 0. 1. 1. 0. 1. 0. 0. 0. 1. 0. 1. 1. 1. 1. 1. 0. 1. 1. 0. 1.\n",
      "  0. 1. 0. 0. 1. 1. 1. 1. 1. 0. 1. 0. 0. 0. 0. 0. 1. 1. 0. 1. 1. 1. 0. 1.\n",
      "  1. 0. 1. 1. 0. 0. 1. 0. 1. 1. 0. 0.]]\n"
     ]
    }
   ],
   "execution_count": 161
  },
  {
   "metadata": {
    "ExecuteTime": {
     "end_time": "2025-01-25T17:36:48.393463Z",
     "start_time": "2025-01-25T17:36:48.389981Z"
    }
   },
   "cell_type": "code",
   "source": [
    "# Simulation eines Bitfehlers\n",
    "llr = encoded.copy()\n",
    "error_positions = np.array([5,10])\n",
    "error_num = 1\n",
    "error_positions = np.random.choice(range(llr[0].size-1), size=error_num, replace=False)\n",
    "llr[0, error_positions] = np.where(llr[0, error_positions] == 0, 1.0, 0.0)\n",
    "print(error_positions)\n",
    "print(\"LLR mit Bitfehler:\", llr)"
   ],
   "id": "78f76d7d1b2f062d",
   "outputs": [
    {
     "name": "stdout",
     "output_type": "stream",
     "text": [
      "[62]\n",
      "LLR mit Bitfehler: [[0. 0. 0. 1. 1. 0. 0. 1. 0. 0. 1. 1. 1. 0. 0. 0. 1. 1. 0. 1. 0. 0. 0. 1.\n",
      "  0. 0. 0. 1. 0. 0. 1. 0. 1. 0. 1. 0. 0. 1. 0. 0. 0. 0. 0. 0. 0. 1. 0. 0.\n",
      "  0. 1. 1. 1. 1. 0. 1. 0. 0. 0. 1. 0. 1. 1. 0. 1. 0. 1. 0. 1. 0. 0. 0. 0.\n",
      "  0. 0. 1. 1. 0. 1. 1. 0. 1. 0. 1. 0. 1. 0. 0. 1. 0. 1. 0. 0. 0. 0. 1. 0.\n",
      "  0. 1. 0. 1. 0. 1. 1. 0. 1. 0. 0. 0. 1. 0. 1. 1. 1. 1. 1. 0. 1. 1. 0. 1.\n",
      "  0. 1. 0. 0. 1. 1. 1. 1. 1. 0. 1. 0. 0. 0. 0. 0. 1. 1. 0. 1. 1. 1. 0. 1.\n",
      "  1. 0. 1. 1. 0. 0. 1. 0. 1. 1. 0. 0.]]\n"
     ]
    }
   ],
   "execution_count": 162
  },
  {
   "metadata": {
    "ExecuteTime": {
     "end_time": "2025-01-25T17:36:50.258715Z",
     "start_time": "2025-01-25T17:36:48.409191Z"
    }
   },
   "cell_type": "code",
   "source": [
    "# Dekodierung\n",
    "u_hat = decoder(llr)\n",
    "decoded = u_hat.numpy()\n",
    "print(\"Dekodierte Bits:\", decoded)\n",
    "\n",
    "# Überprüfung der Fehlerkorrektur\n",
    "if np.array_equal(u, decoded):\n",
    "    print(\"Fehler erfolgreich korrigiert!\")\n",
    "    print(\"Dekodierte Nachricht: \" + decode_string(decoded))\n",
    "else:\n",
    "    print(\"Fehlerkorrektur fehlgeschlagen.\")\n",
    "    print(\"Dekodierte Nachricht: \" + decode_string(decoded))"
   ],
   "id": "f5cce29358e5e098",
   "outputs": [
    {
     "name": "stdout",
     "output_type": "stream",
     "text": [
      "Dekodierte Bits: [[0. 1. 0. 0. 1. 0. 0. 0. 0. 1. 1. 0. 0. 0. 0. 1. 0. 1. 1. 0. 1. 1. 0. 0.\n",
      "  0. 1. 1. 0. 1. 1. 0. 0. 0. 1. 1. 0. 1. 1. 1. 1. 0. 0. 1. 0. 0. 0. 0. 1.]]\n",
      "Fehler erfolgreich korrigiert!\n",
      "Dekodierte Nachricht: Hallo!\n"
     ]
    }
   ],
   "execution_count": 163
  },
  {
   "metadata": {},
   "cell_type": "code",
   "source": [
    "## Ergebnisse Plotten\n",
    "# Simulierte Daten\n",
    "u_plot = u[0]\n",
    "encoded_plot = encoded[0]\n",
    "llr_plot = llr[0]\n",
    "decoded_plot = decoded[0]\n",
    "### Turbocodierte Bits"
   ],
   "id": "33d5e1acf4aa4bc",
   "outputs": [],
   "execution_count": null
  },
  {
   "metadata": {},
   "cell_type": "code",
   "source": [
    "# Plot für kodierte Bits und LLR-Werte\n",
    "plt.figure(figsize=(12, 4))\n",
    "plt.stem(range(len(encoded_plot)), encoded_plot, linefmt='r-', markerfmt='ro', basefmt=\" \", label=\"Kodierte Bits\")\n",
    "plt.stem(range(len(llr_plot)), llr_plot, linefmt='b-', markerfmt='bo', basefmt=\" \", label=\"Bits mit Fehler (LLR)\")\n",
    "plt.title(\"Kodierte Bits und LLR-Werte\")\n",
    "plt.xlabel(\"Bit-Index\")\n",
    "plt.ylabel(\"Wert\")\n",
    "plt.xticks(range(len(encoded_plot)))\n",
    "plt.yticks([0,1])\n",
    "plt.grid(True)\n",
    "plt.legend()\n",
    "plt.show()\n"
   ],
   "id": "dd56050ba50c571a",
   "outputs": [],
   "execution_count": null
  },
  {
   "metadata": {},
   "cell_type": "markdown",
   "source": "### Plot für originale und dekodierte Bits",
   "id": "3e5364cf6a579c63"
  },
  {
   "metadata": {},
   "cell_type": "code",
   "source": [
    "# Erstellen der Subplots\n",
    "fig, (ax1, ax2) = plt.subplots(2, 1, figsize=(12, 8))\n",
    "\n",
    "# Originale Bits Plot\n",
    "ax1.stem(range(len(u_plot)), u_plot, linefmt='b', markerfmt='bo', basefmt=\" \", label=\"Originale Bits\")\n",
    "ax1.set_title(\"Originale Bits\")\n",
    "ax1.set_xlabel(\"Bit-Index\")\n",
    "ax1.set_ylabel(\"Bit-Wert\")\n",
    "ax1.set_xticks(range(len(u_plot)))\n",
    "ax1.set_yticks([0, 1])\n",
    "ax1.grid(True)\n",
    "ax1.legend()\n",
    "\n",
    "# Dekodierte Bits Plot\n",
    "ax2.stem(range(len(decoded_plot)), decoded_plot, linefmt='r', markerfmt='ro', basefmt=\" \", label=\"Dekodierte Bits\")\n",
    "ax2.set_title(\"Dekodierte Bits\")\n",
    "ax2.set_xlabel(\"Bit-Index\")\n",
    "ax2.set_ylabel(\"Bit-Wert\")\n",
    "ax2.set_xticks(range(len(decoded_plot)))\n",
    "ax2.set_yticks([0, 1])\n",
    "ax2.grid(True)\n",
    "ax2.legend()\n",
    "\n",
    "# Layout anpassen und anzeigen\n",
    "plt.tight_layout()\n",
    "plt.show()"
   ],
   "id": "5a223b19e5a849b2",
   "outputs": [],
   "execution_count": null
  },
  {
   "metadata": {},
   "cell_type": "code",
   "source": [
    "print(np.array(decoded[0], dtype=int))\n",
    "decoded = np.array(decoded[0], dtype=int)\n",
    "decode_string(decoded)"
   ],
   "id": "c48415faa9d037d",
   "outputs": [],
   "execution_count": null
  },
  {
   "metadata": {},
   "cell_type": "markdown",
   "source": "# Image Example",
   "id": "9471f5a2366b8874"
  },
  {
   "metadata": {},
   "cell_type": "code",
   "source": [
    "image_path = \"../data/images/image.png\"\n",
    "u = encode_image_to_binary_array(image_path)\n",
    "print(\"Originale Bits:\", u)"
   ],
   "id": "20ce1f00395ffbe9",
   "outputs": [],
   "execution_count": null
  },
  {
   "metadata": {},
   "cell_type": "code",
   "source": [
    "information_codeword_length = u[0].size\n",
    "fragments = split_into_fragments(u)\n",
    "print(len(fragments))"
   ],
   "id": "905cad10b9f7842e",
   "outputs": [],
   "execution_count": null
  },
  {
   "metadata": {},
   "cell_type": "code",
   "source": "",
   "id": "35574f0a4dc46481",
   "outputs": [],
   "execution_count": null
  }
 ],
 "metadata": {
  "kernelspec": {
   "display_name": "Python 3",
   "language": "python",
   "name": "python3"
  },
  "language_info": {
   "codemirror_mode": {
    "name": "ipython",
    "version": 2
   },
   "file_extension": ".py",
   "mimetype": "text/x-python",
   "name": "python",
   "nbconvert_exporter": "python",
   "pygments_lexer": "ipython2",
   "version": "2.7.6"
  }
 },
 "nbformat": 4,
 "nbformat_minor": 5
}
