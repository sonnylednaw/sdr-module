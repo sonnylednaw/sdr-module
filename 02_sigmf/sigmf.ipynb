{
 "cells": [
  {
   "cell_type": "code",
   "id": "initial_id",
   "metadata": {
    "collapsed": true,
    "ExecuteTime": {
     "end_time": "2025-02-23T22:28:41.073225Z",
     "start_time": "2025-02-23T22:28:40.948867Z"
    }
   },
   "source": [
    "import numpy as np\n",
    "import matplotlib.pyplot as plt\n",
    "from typing import Union, Sequence\n",
    "from sigmf import SigMFFile, sigmffile\n",
    "from sigmf.utils import get_data_type_str\n",
    "from datetime import datetime, timezone\n",
    "import os\n",
    "from enum import Enum\n",
    "from string_to_binary_coder import encode_string\n",
    "from TurboCoder import TurboCoder"
   ],
   "outputs": [],
   "execution_count": 2
  },
  {
   "metadata": {
    "ExecuteTime": {
     "end_time": "2025-02-24T11:14:09.763856Z",
     "start_time": "2025-02-24T11:14:09.743126Z"
    }
   },
   "cell_type": "code",
   "source": [
    "def generate_m_sequence(length=16):\n",
    "    \"\"\"\n",
    "    Generiert eine 16 Bit lange M-Sequenz mit LFSR (Linear Feedback Shift Register) als BPSK Sequenz.\n",
    "    Verwendetes primitives Polynom: x^4 + x^3 + 1 (Taps an Position 3 und 4)\n",
    "    \"\"\"\n",
    "    register = [1, 1, 1, 1]  # Initialzustand (darf nicht alle 0 sein)\n",
    "    sequence = []\n",
    "\n",
    "    for _ in range(length):\n",
    "        # Feedback-Berechnung (XOR der Taps)\n",
    "        feedback = register[3] ^ register[2]  # 0-indizierte Positionen\n",
    "        sequence.append(register.pop())\n",
    "        register.insert(0, feedback)\n",
    "\n",
    "    return 2*np.asarray(sequence)-1\n",
    "\n",
    "def zadoff_chu_sequence(length, root=25):\n",
    "    \"\"\"\n",
    "    Generiert zu gegebener Länge und Wurzel eine ZC-Sequenz (QPSK).\n",
    "    :param length:\n",
    "    :param root:\n",
    "    :return:\n",
    "    \"\"\"\n",
    "    n = np.arange(0, length)\n",
    "    if length % 2 != 0:\n",
    "        return np.exp(1j * np.pi * root * n * (n + 1) / length)\n",
    "    return np.exp(1j * np.pi * root * n**2 / length)\n",
    "\n",
    "\n",
    "def normalize_energy(signal):\n",
    "    energy = np.sum(np.abs(signal) ** 2)\n",
    "    return signal / np.sqrt(energy)\n",
    "\n",
    "def dirac_impulse(t, tau, amplitude=1.0, width=1e-9):\n",
    "    \"\"\"\n",
    "    Erzeugt eine Annäherung an einen Dirac-Impuls.\n",
    "\n",
    "    :param t: Zeitvektor (numpy array)\n",
    "    :param tau: Verschiebung des Impulses in Sekunden\n",
    "    :param amplitude: Amplitude des Impulses (Standard: 1.0)\n",
    "    :param width: Breite des Impulses in Sekunden (Standard: 1e-9)\n",
    "    :return: numpy array mit dem Dirac-Impuls\n",
    "    \"\"\"\n",
    "    # Berechne die Zeitauflösung\n",
    "    dt = t[1] - t[0]\n",
    "\n",
    "    # Initialisiere das Ausgabe-Array mit Nullen\n",
    "    dirac = np.zeros_like(t)\n",
    "\n",
    "    # Finde den Index, der tau am nächsten ist\n",
    "    idx = np.argmin(np.abs(t - tau))\n",
    "\n",
    "    # Setze den Impuls\n",
    "    if width <= dt:\n",
    "        # Wenn die gewünschte Breite kleiner als die Zeitauflösung ist,\n",
    "        # setze einfach einen einzelnen Punkt\n",
    "        dirac[idx] = 1\n",
    "    else:\n",
    "        # Andernfalls erstelle einen schmalen Rechteckimpuls\n",
    "        half_width = int(width / (2 * dt))\n",
    "        start = max(0, idx - half_width)\n",
    "        end = min(len(t), idx + half_width + 1)\n",
    "        dirac[start:end] = 1\n",
    "\n",
    "    return dirac\n",
    "\n",
    "def qpsk_modulation(data_bits):\n",
    "    # Ensure the number of bits is even\n",
    "    if len(data_bits) % 2 != 0:\n",
    "        data_bits = np.append(data_bits, 0)  # Pad with 0 if odd\n",
    "\n",
    "    # Reshape the bits into pairs\n",
    "    bit_pairs = data_bits.reshape(-1, 2)\n",
    "\n",
    "    # Map bit pairs to QPSK symbols: Gray Coding\n",
    "    modulation_data_symbols = np.zeros(len(bit_pairs), dtype=complex)\n",
    "    modulation_data_symbols[np.all(bit_pairs == [0, 0], axis=1)] = (1 + 1j) / np.sqrt(2)\n",
    "    modulation_data_symbols[np.all(bit_pairs == [0, 1], axis=1)] = (-1 + 1j) / np.sqrt(2)\n",
    "    modulation_data_symbols[np.all(bit_pairs == [1, 1], axis=1)] = (-1 - 1j) / np.sqrt(2)\n",
    "    modulation_data_symbols[np.all(bit_pairs == [1, 0], axis=1)] = (1 - 1j) / np.sqrt(2)\n",
    "\n",
    "    return modulation_data_symbols\n",
    "\n",
    "def bpsk_modulation(data_bits):\n",
    "    return 2 * data_bits - 1\n",
    "\n",
    "class BasebandPulseForm(Enum):\n",
    "    RECT = \"rect\"\n",
    "    RAISED_COSINE = \"raised_cosine\"\n",
    "\n",
    "def add_pilots(modulation_data_symbols, params):\n",
    "    \"\"\"\n",
    "    Adds pilot symbols to the modulation data symbols at specified intervals.\n",
    "\n",
    "    :param modulation_data_symbols: Array of modulation data symbols\n",
    "    :param params: Dictionary containing 'pilot_sym', 'pilot_start_idx', and 'pilot_repetition'\n",
    "    :return: Array of modulation data symbols with pilots\n",
    "    \"\"\"\n",
    "\n",
    "    total_symbols = params['frame']['data_syms']\n",
    "    pilot_symbol = params['frame']['pilot_sym']\n",
    "    pilot_start_idx = params['frame']['pilot_start_idx']\n",
    "    pilot_repetition = params['frame']['pilot_repetition']\n",
    "\n",
    "    # Berechnung der Anzahl der Piloten\n",
    "\n",
    "    modulation_data_symbols_with_pilots = np.zeros(params['frame']['data_syms'], dtype=np.complex64)\n",
    "\n",
    "\n",
    "    pilot_idx = np.arange(pilot_start_idx, total_symbols, pilot_repetition + 1)\n",
    "    num_pilots = pilot_idx.size\n",
    "\n",
    "    data_sym_idx = 0\n",
    "\n",
    "    for i in range(len(modulation_data_symbols_with_pilots)):\n",
    "        if np.isin(i, pilot_idx):\n",
    "            modulation_data_symbols_with_pilots[i] = pilot_symbol\n",
    "        elif data_sym_idx < modulation_data_symbols.size:\n",
    "            modulation_data_symbols_with_pilots[i] = modulation_data_symbols[data_sym_idx]\n",
    "            data_sym_idx += 1\n",
    "        else:\n",
    "            modulation_data_symbols_with_pilots[i] = 0\n",
    "    return modulation_data_symbols_with_pilots\n",
    "\n",
    "def get_raised_cosine_pulse(num_taps=101, roll_off=0.35, samples_per_symbol=8):\n",
    "    Ts = samples_per_symbol\n",
    "    t = np.arange(num_taps) - (num_taps-1)//2\n",
    "    h = np.sinc(t/Ts) * np.cos(np.pi*roll_off*t/Ts) / (1 - (2*roll_off*t/Ts)**2)\n",
    "    return h\n",
    "\n",
    "def get_rect_pulse(num_taps=101, samples_per_symbol=8):\n",
    "    h = np.zeros(num_taps)\n",
    "    h[num_taps//2-samples_per_symbol//2:num_taps//2+samples_per_symbol//2] = 1\n",
    "    return h\n",
    "\n",
    "def plot_iq_samples(x=None, x_i=None, x_q=None, sps=None, marked_symbol=5):\n",
    "    fig, axes = plt.subplots(1, 3, figsize=(12, 5))\n",
    "\n",
    "    if sps is None:\n",
    "        index = marked_symbol - 1\n",
    "    else:\n",
    "        index = (marked_symbol - 1) * sps\n",
    "\n",
    "    if (x_i is None) and (x_q is None) and (x is not None):\n",
    "        x_i = np.real(x)\n",
    "        x_q = np.imag(x)\n",
    "\n",
    "    data = [x_i, x_q]\n",
    "    titles = [r\"Realteil: $ x_{\\rm{I}}[n] $\", r\"Imaginärteil: $ x_{\\rm{Q}}[n]$\"]\n",
    "    ylabels = [r'$x_{\\rm{I}}[n]$', r'$x_{\\rm{Q}}[n]$']\n",
    "\n",
    "    for i, ax in enumerate(axes[:2]):\n",
    "        ax.stem(data[i])\n",
    "        ax.grid(True)\n",
    "        ax.set_xlabel(r'$n$')\n",
    "        ax.set_ylabel(ylabels[i])\n",
    "        ax.set_yticks([-1, -0.5, 0, 0.5, 1])\n",
    "        ax.set_title(titles[i])\n",
    "        ax.plot(index, data[i][index], 'o', color='orange')\n",
    "\n",
    "    # Scatter plot\n",
    "    if sps is None:\n",
    "        axes[2].scatter(x_i[::sps], x_q[::sps])\n",
    "    else:\n",
    "        axes[2].scatter(x_i, x_q)\n",
    "    axes[2].plot(x_i[index], x_q[index], 'o', color='orange')\n",
    "    axes[2].set_aspect('equal', adjustable='box')\n",
    "    axes[2].grid(True)\n",
    "\n",
    "    # Draw unit circle\n",
    "    unit_circle = plt.Circle((0, 0), 1, color='blue', fill=False, linestyle='--')\n",
    "    axes[2].add_artist(unit_circle)\n",
    "\n",
    "    # Set titles and labels\n",
    "    axes[2].set_title('IQ-Plot')\n",
    "    axes[2].set_xlabel(r'$\\Im$')\n",
    "    axes[2].set_ylabel(r'$\\Re$')\n",
    "\n",
    "    plt.tight_layout()\n",
    "    return fig, axes\n",
    "\n",
    "def add_awgn_noise(signal, snr_dB):\n",
    "    \"\"\"\n",
    "    Adds AWGN noise to the signal based on the specified SNR in dB.\n",
    "    :param signal: Input signal\n",
    "    :param snr_dB: Signal-to-Noise Ratio in dB\n",
    "    :return: Signal with added AWGN noise\n",
    "    \"\"\"\n",
    "    signal_power = np.mean(np.abs(signal) ** 2)\n",
    "    snr_linear = 10 ** (snr_dB / 10)\n",
    "    noise_power = signal_power / snr_linear\n",
    "    noise = np.sqrt(noise_power / 2) * (np.random.randn(len(signal)) + 1j * np.random.randn(len(signal)))\n",
    "    return signal + noise.real\n",
    "\n",
    "def add_channel(t: Union[Sequence[float], np.ndarray],\n",
    "                signal: Union[Sequence[float], np.ndarray],\n",
    "                paths_m: Union[Sequence[float], np.ndarray],\n",
    "                fc: float) -> np.ndarray:\n",
    "    dirac_sum = np.zeros_like(signal)\n",
    "    c0 = 3e8 # m/s speed of light\n",
    "    for d_m in paths_m:\n",
    "        amplitude = np.sqrt(c0/(4*np.pi*d_m*fc))\n",
    "        tau = d_m / c0\n",
    "        dirac_sum += amplitude * dirac_impulse(t, tau)\n",
    "    return np.fft.ifft(np.fft.fft(s_hf)*np.fft.fft(dirac_sum)).real\n",
    "\n",
    "def plot_passband_signals(t, x_i_shaped, x_q_shaped, s_c_I, s_c_Q, s_hf):\n",
    "    fig, (ax1, ax2, ax3) = plt.subplots(3, 1, figsize=(15, 10))\n",
    "\n",
    "    # Plot I(t) * s_c,I(t)\n",
    "    ax1.plot(t, x_i_shaped * s_c_I, label=r\"$x_{\\rm{I, shaped}}(t) $ $ s_{\\rm{c,I}}(t)$\")\n",
    "    ax1.plot(t, x_i_shaped, color='red', label=r\"$x_{\\rm{I, shaped}}(t) $\")\n",
    "    ax1.set_title(r\"Passbandsignal: $x_{\\rm{I, shaped}}(t) $ $ s_{\\rm{c,I}}(t)$\")\n",
    "    ax1.set_ylabel(r\"$x_{\\rm{I, shaped}}(t) s_{\\rm{c,I}}(t)$\")\n",
    "    ax1.set_xlabel(r\"$t$ [s]\")\n",
    "    ax1.legend()\n",
    "    ax1.grid(True)\n",
    "\n",
    "    # Plot Q(t) * s_c,Q(t)\n",
    "    ax2.plot(t, x_q_shaped * s_c_Q, label=r\"$x_{\\rm{Q, shaped}}(t) $ $ s_{\\rm{c,Q}}(t)$\")\n",
    "    ax2.plot(t, x_q_shaped, color='red', label=r\"$x_{\\rm{Q, shaped}}(t) $\")\n",
    "    ax2.set_title(r\"Passbandsignal: $x_{\\rm{Q, shaped}}(t) $ $ s_{\\rm{c,Q}}(t)$\")\n",
    "    ax2.set_ylabel(r\"$x_{\\rm{Q, shaped}}(t) s_{\\rm{c,Q}}(t)$\")\n",
    "    ax2.set_xlabel(r\"$t$ [s]\")\n",
    "    ax2.legend()\n",
    "    ax2.grid(True)\n",
    "\n",
    "    # Plot s_HF(t)\n",
    "    ax3.plot(t, s_hf)\n",
    "    ax3.set_title(r\"Passbandsignal: $s_{\\rm{HF}}(t)$\")\n",
    "    ax3.set_ylabel(r\"$s_{\\rm{HF}}(t)$\")\n",
    "    ax3.set_xlabel(r\"$t$ [s]\")\n",
    "    ax3.grid(True)\n",
    "\n",
    "    plt.tight_layout()\n",
    "    plt.show()\n",
    "\n",
    "def add_cfo(iq_chunk, cfo, fs):\n",
    "    \"\"\"\n",
    "    Adds a frequency offset to the IQ chunk.\n",
    "    :param iq_chunk:\n",
    "    :param cfo: in Hz\n",
    "    :return:\n",
    "    \"\"\"\n",
    "    cfo_signal = np.exp(1j * (2 * np.pi * cfo / fs * np.arange(iq_chunk.size)))\n",
    "    iq_chunk_with_fo = iq_chunk * cfo_signal\n",
    "    return iq_chunk_with_fo"
   ],
   "id": "643ea80f6da07bfc",
   "outputs": [],
   "execution_count": 23
  },
  {
   "metadata": {},
   "cell_type": "markdown",
   "source": "# Parameter für Signalverarbeitung",
   "id": "a06221bf88ecf38"
  },
  {
   "metadata": {
    "ExecuteTime": {
     "end_time": "2025-02-23T22:28:41.093580Z",
     "start_time": "2025-02-23T22:28:41.091526Z"
    }
   },
   "cell_type": "code",
   "source": [
    "params = {\n",
    "    # Basisband Puls soll eine Dauer T_s von 0.5 Sekunden haben\n",
    "    \"T_s\": 1/2, # in seconds\n",
    "    # Der Puls soll 16 Samples lang sein\n",
    "    \"sps\": 16, # in samples\n",
    "    # num_tabs gibt die Gesamtlänge des Basisbandpulses an, muss natürlich länger sein als die Länge des Pulses sps. sps=101 wäre eine gute Zahl.\n",
    "    \"num_taps\": 101,\n",
    "    # pulseform gibt die Basisbandpulse-Form an, welche Sie verwenden möchten\n",
    "    \"pulseform\": BasebandPulseForm.RAISED_COSINE,  # Verwendung des oben definierten Enums BasebandPulseForm\n",
    "    \"roll_off\": 0.35,  # der Roll-Off Faktor falls BasebandPulseForm.RAISED_COSINE verwendet werden soll, anderenfalls bleibt der Parameter ungenutzt\n",
    "    \"frame\": {\n",
    "        \"sync_syms\": 16,\n",
    "        \"data_syms\": 64,\n",
    "        \"pilot_sym\": np.sqrt(1+1j), #1, #\n",
    "        \"pilot_start_idx\": 2,\n",
    "        \"pilot_repetition\": 5, # after every fifth sym\n",
    "    }\n",
    "}\n",
    "\n",
    "# Nun noch die Dauer eines Samples\n",
    "params['T_sample'] = params['T_s'] / params['sps'] # T_sample = T_s / sps"
   ],
   "id": "fe0c186eb4177d85",
   "outputs": [],
   "execution_count": 4
  },
  {
   "metadata": {},
   "cell_type": "markdown",
   "source": "# String to bits",
   "id": "c0a7684612cb6b04"
  },
  {
   "metadata": {
    "ExecuteTime": {
     "end_time": "2025-02-23T22:28:41.099611Z",
     "start_time": "2025-02-23T22:28:41.097434Z"
    }
   },
   "cell_type": "code",
   "source": [
    "information_str = \"HTWK\"\n",
    "information_bits = encode_string(information_str)\n",
    "print(information_bits)\n",
    "print(len(information_bits[0]))"
   ],
   "id": "c9e8da68f0a3c20e",
   "outputs": [
    {
     "name": "stdout",
     "output_type": "stream",
     "text": [
      "[[0 1 0 0 1 1 0 1 0 1 0 0 0 0 0 1 0 1 0 1 0 0 1 1 0 1 0 0 1 1 1 1]]\n",
      "32\n"
     ]
    }
   ],
   "execution_count": 5
  },
  {
   "metadata": {},
   "cell_type": "markdown",
   "source": "# Kanalcodierung",
   "id": "ff02948c6f660ce2"
  },
  {
   "metadata": {
    "ExecuteTime": {
     "end_time": "2025-02-23T22:28:41.176186Z",
     "start_time": "2025-02-23T22:28:41.103414Z"
    }
   },
   "cell_type": "code",
   "source": [
    "turbo_coder = TurboCoder(code_rate=1/2, constraint_length=4)\n",
    "encoded_bits = turbo_coder.encode(information_bits)\n",
    "print(encoded_bits)\n",
    "print (len(encoded_bits))"
   ],
   "id": "35da4eba4bb571a4",
   "outputs": [
    {
     "name": "stdout",
     "output_type": "stream",
     "text": [
      "[0 0 1 0 0 1 0 1 1 0 1 0 0 0 1 0 0 0 1 1 0 0 0 0 0 0 0 1 0 1 1 0 0 1 1 1 0\n",
      " 1 1 0 0 1 0 0 1 1 1 0 0 1 1 0 0 1 0 0 1 0 1 1 1 0 1 0 1 0 1 0 1 1 1 1]\n",
      "72\n"
     ]
    }
   ],
   "execution_count": 6
  },
  {
   "metadata": {},
   "cell_type": "markdown",
   "source": [
    "### Mapping der Bits $\\vec{b}[m]$ auf Modulationssymbole & Erstellung eines Frames\n",
    "\n",
    "<div style=\"text-align: center;\">\n",
    "    <img src=\"./data/images/DataFrame.png\" alt=\"IQ Sampling Receiver\" width=\"600\"/>\n",
    "</div>"
   ],
   "id": "3e833f51f0eb2481"
  },
  {
   "metadata": {
    "ExecuteTime": {
     "end_time": "2025-02-23T22:28:41.185629Z",
     "start_time": "2025-02-23T22:28:41.184060Z"
    }
   },
   "cell_type": "code",
   "source": "modulation_data_symbols = qpsk_modulation(encoded_bits)",
   "id": "b0ee5e34cd3c068",
   "outputs": [],
   "execution_count": 7
  },
  {
   "metadata": {
    "ExecuteTime": {
     "end_time": "2025-02-23T22:28:41.192234Z",
     "start_time": "2025-02-23T22:28:41.190040Z"
    }
   },
   "cell_type": "code",
   "source": [
    "modulation_data_symbols_with_pilots = add_pilots(modulation_data_symbols, params)\n",
    "print(modulation_data_symbols_with_pilots)\n",
    "print(modulation_data_symbols_with_pilots.size)"
   ],
   "id": "513113d7a8366e03",
   "outputs": [
    {
     "name": "stdout",
     "output_type": "stream",
     "text": [
      "[ 0.70710678+0.70710678j  0.70710678-0.70710678j  1.09868411+0.45508986j\n",
      " -0.70710678+0.70710678j -0.70710678+0.70710678j  0.70710678-0.70710678j\n",
      "  0.70710678-0.70710678j  0.70710678+0.70710678j  1.09868411+0.45508986j\n",
      "  0.70710678-0.70710678j  0.70710678+0.70710678j -0.70710678-0.70710678j\n",
      "  0.70710678+0.70710678j  0.70710678+0.70710678j  1.09868411+0.45508986j\n",
      "  0.70710678+0.70710678j -0.70710678+0.70710678j -0.70710678+0.70710678j\n",
      "  0.70710678-0.70710678j -0.70710678+0.70710678j  1.09868411+0.45508986j\n",
      " -0.70710678-0.70710678j -0.70710678+0.70710678j  0.70710678-0.70710678j\n",
      " -0.70710678+0.70710678j  0.70710678+0.70710678j  1.09868411+0.45508986j\n",
      " -0.70710678-0.70710678j  0.70710678-0.70710678j -0.70710678+0.70710678j\n",
      "  0.70710678-0.70710678j -0.70710678+0.70710678j  1.09868411+0.45508986j\n",
      "  0.70710678+0.70710678j  0.70710678-0.70710678j -0.70710678-0.70710678j\n",
      "  0.70710678-0.70710678j  0.70710678-0.70710678j  1.09868411+0.45508986j\n",
      "  0.70710678-0.70710678j  0.70710678-0.70710678j -0.70710678-0.70710678j\n",
      " -0.70710678-0.70710678j]\n",
      "43\n"
     ]
    }
   ],
   "execution_count": 8
  },
  {
   "metadata": {
    "ExecuteTime": {
     "end_time": "2025-02-23T22:28:41.197703Z",
     "start_time": "2025-02-23T22:28:41.196373Z"
    }
   },
   "cell_type": "code",
   "source": "synchronization_sequence = zadoff_chu_sequence(params['frame']['sync_syms'], root=25)",
   "id": "6e5da4801703976b",
   "outputs": [],
   "execution_count": 9
  },
  {
   "metadata": {
    "ExecuteTime": {
     "end_time": "2025-02-23T22:28:41.210107Z",
     "start_time": "2025-02-23T22:28:41.208364Z"
    }
   },
   "cell_type": "code",
   "source": "symbols = np.concatenate((synchronization_sequence, modulation_data_symbols_with_pilots))",
   "id": "d4f56d1af291d6cc",
   "outputs": [],
   "execution_count": 10
  },
  {
   "metadata": {},
   "cell_type": "markdown",
   "source": "# Pulse Shaping",
   "id": "f0a138f93c069165"
  },
  {
   "metadata": {
    "ExecuteTime": {
     "end_time": "2025-02-23T22:28:41.213547Z",
     "start_time": "2025-02-23T22:28:41.211960Z"
    }
   },
   "cell_type": "code",
   "source": [
    "h_pulse_form = get_rect_pulse(num_taps=params['num_taps'], samples_per_symbol=params['sps']) \\\n",
    "                if params['pulseform'] is BasebandPulseForm.RECT else get_raised_cosine_pulse(num_taps=params['num_taps'], samples_per_symbol=params['sps'], roll_off=params['roll_off'])"
   ],
   "id": "602afc42f6b3fc73",
   "outputs": [],
   "execution_count": 11
  },
  {
   "metadata": {
    "ExecuteTime": {
     "end_time": "2025-02-23T22:28:41.221894Z",
     "start_time": "2025-02-23T22:28:41.218605Z"
    }
   },
   "cell_type": "code",
   "source": [
    "x_i_no_shape = np.zeros(len(symbols) * params['sps'])\n",
    "x_q_no_shape = np.zeros(len(symbols) * params['sps'])\n",
    "\n",
    "t = np.arange(len(x_i_no_shape)) * params['T_sample']\n",
    "for m in range(len(symbols)):\n",
    "    x_i_no_shape += symbols[m].real * dirac_impulse(t=t, tau = m * params['T_s'])\n",
    "    x_q_no_shape += symbols[m].imag * dirac_impulse(t=t, tau = m * params['T_s'])"
   ],
   "id": "75fc4f3084b275fa",
   "outputs": [],
   "execution_count": 12
  },
  {
   "metadata": {
    "ExecuteTime": {
     "end_time": "2025-02-23T22:28:41.475939Z",
     "start_time": "2025-02-23T22:28:41.228173Z"
    }
   },
   "cell_type": "code",
   "source": [
    "fig, axes = plot_iq_samples(x_i=x_i_no_shape, x_q=x_q_no_shape, sps=params['sps'])\n",
    "plt.show()"
   ],
   "id": "72053fe87c2d19c3",
   "outputs": [
    {
     "data": {
      "text/plain": [
       "<Figure size 1200x500 with 3 Axes>"
      ],
      "image/png": "[encoded data removed]"
     },
     "metadata": {},
     "output_type": "display_data"
    }
   ],
   "execution_count": 13
  },
  {
   "metadata": {
    "ExecuteTime": {
     "end_time": "2025-02-23T22:28:41.487549Z",
     "start_time": "2025-02-23T22:28:41.485188Z"
    }
   },
   "cell_type": "code",
   "source": [
    "x_i_shaped = np.convolve(x_i_no_shape, h_pulse_form)\n",
    "x_q_shaped = np.convolve(x_q_no_shape, h_pulse_form)"
   ],
   "id": "d95af42b211e4c54",
   "outputs": [],
   "execution_count": 14
  },
  {
   "metadata": {
    "ExecuteTime": {
     "end_time": "2025-02-23T22:28:41.506121Z",
     "start_time": "2025-02-23T22:28:41.503351Z"
    }
   },
   "cell_type": "code",
   "source": [
    "t = np.arange(x_i_shaped.size) * params['T_sample']\n",
    "\n",
    "\n",
    "s_c_I = np.cos(2*np.pi*params['fc']*t)\n",
    "s_c_Q = np.cos(2*np.pi*params['fc']*t + np.pi/2)"
   ],
   "id": "a2d53f60be72558a",
   "outputs": [],
   "execution_count": 15
  },
  {
   "metadata": {
    "ExecuteTime": {
     "end_time": "2025-02-23T22:28:41.512376Z",
     "start_time": "2025-02-23T22:28:41.510302Z"
    }
   },
   "cell_type": "code",
   "source": [
    "s_hf = x_i_shaped * s_c_I + x_q_shaped * s_c_Q\n",
    "#plot_passband_signals(t, x_i_shaped, x_q_shaped, s_c_I, s_c_Q, s_hf)"
   ],
   "id": "73db52d7698320d1",
   "outputs": [],
   "execution_count": 16
  },
  {
   "metadata": {},
   "cell_type": "markdown",
   "source": "# AWGN Kanal, Mehrwegeausbreitung & CFO",
   "id": "9f2429825fa812a9"
  },
  {
   "metadata": {
    "ExecuteTime": {
     "end_time": "2025-02-23T22:28:41.527325Z",
     "start_time": "2025-02-23T22:28:41.523186Z"
    }
   },
   "cell_type": "code",
   "source": [
    "tau = 0.125/2 + 1/params['fc']\n",
    "c0 = 3e8\n",
    "paths = np.array([tau*c0,]) #d = tau * c0\n",
    "t = np.arange(s_hf.size) * params['T_sample']\n",
    "s_hf = add_channel(t=t, signal=s_hf, paths_m=paths, fc=params['fc'])\n",
    "rx_samples = add_awgn_noise(s_hf, 12)\n",
    "cfo = params['sps'] * 1e-2\n",
    "rx_samples = add_cfo(iq_chunk=rx_samples, cfo=cfo, fs=params['sps'])"
   ],
   "id": "7bda4418a6192ada",
   "outputs": [],
   "execution_count": 17
  },
  {
   "metadata": {},
   "cell_type": "markdown",
   "source": "# Speichern als SigMF",
   "id": "d68feba75dad8854"
  },
  {
   "metadata": {
    "ExecuteTime": {
     "end_time": "2025-02-23T22:28:41.544363Z",
     "start_time": "2025-02-23T22:28:41.541359Z"
    }
   },
   "cell_type": "code",
   "source": [
    "filepath = \"data/measurements\"\n",
    "if not os.path.exists(filepath):\n",
    "    os.makedirs(filepath)\n",
    "date = datetime.now(timezone.utc).strftime(\"%Y%m%dT%H%M%SZ\")\n",
    "filename = f\"measurement_{int(params['fc'])}Hz_{date}\"\n"
   ],
   "id": "cda5c94c611d3649",
   "outputs": [],
   "execution_count": 18
  },
  {
   "metadata": {},
   "cell_type": "markdown",
   "source": "## *.data",
   "id": "1ed27a73acf8700f"
  },
  {
   "metadata": {
    "ExecuteTime": {
     "end_time": "2025-02-23T22:28:41.558943Z",
     "start_time": "2025-02-23T22:28:41.556157Z"
    }
   },
   "cell_type": "code",
   "source": "s_hf.tofile(f\"{filepath}/{filename}.sigmf-data\")",
   "id": "ed88a1301f969586",
   "outputs": [],
   "execution_count": 19
  },
  {
   "metadata": {},
   "cell_type": "markdown",
   "source": "## *.meta",
   "id": "efe02eb6bcf01c0d"
  },
  {
   "metadata": {
    "ExecuteTime": {
     "end_time": "2025-02-23T22:28:41.580422Z",
     "start_time": "2025-02-23T22:28:41.573318Z"
    }
   },
   "cell_type": "code",
   "source": [
    "meta = SigMFFile(\n",
    "    global_info= {\n",
    "        SigMFFile.DATATYPE_KEY: get_data_type_str(rx_samples),\n",
    "        SigMFFile.VERSION_KEY: \"0.0.1\",\n",
    "        SigMFFile.SAMPLE_RATE_KEY: params['sps'],\n",
    "        SigMFFile.DESCRIPTION_KEY: \"Example SigMF file\",\n",
    "        SigMFFile.AUTHOR_KEY: \"John Doe\",\n",
    "    }\n",
    ")\n",
    "\n",
    "meta.add_capture(0, metadata={\n",
    "    SigMFFile.FREQUENCY_KEY: params['fc'],\n",
    "    SigMFFile.DATETIME_KEY: datetime.now(timezone.utc).isoformat()+\"Z\",\n",
    "    #\"core:samp_rate_error\": samp_err_rate,\n",
    "    \"core:cfo\": cfo,\n",
    "})\n",
    "\n",
    "meta.tofile(f\"{filepath}/{filename}.sigmf-meta\")"
   ],
   "id": "66db4b74b6d125ed",
   "outputs": [],
   "execution_count": 20
  },
  {
   "metadata": {},
   "cell_type": "markdown",
   "source": "# Einlesen des SigMF Files",
   "id": "d98752dae70b839c"
  },
  {
   "metadata": {
    "ExecuteTime": {
     "end_time": "2025-02-23T22:28:41.596224Z",
     "start_time": "2025-02-23T22:28:41.590549Z"
    }
   },
   "cell_type": "code",
   "source": [
    "data_as_ndarray = sigmffile.fromfile(f\"{filepath}/{filename}.sigmf\").read_samples()\n",
    "print(data_as_ndarray[10:20])"
   ],
   "id": "ac249620eb9f274a",
   "outputs": [
    {
     "name": "stdout",
     "output_type": "stream",
     "text": [
      "[-4.7641755e-17+0.00066392j  3.4029824e-18-0.00222252j\n",
      " -5.6496016e-03-0.00936488j -1.2131926e-02-0.01279737j\n",
      " -1.0725939e-02-0.00610715j -5.4447718e-17+0.00593788j\n",
      "  9.9782944e-03+0.01094538j  8.2023237e-03+0.00356747j\n",
      "  6.8059647e-18-0.00036141j  3.6227542e-03+0.01150203j]\n"
     ]
    }
   ],
   "execution_count": 21
  },
  {
   "metadata": {},
   "cell_type": "markdown",
   "source": "## Bsp.: Lesen der Metadaten",
   "id": "36a5d5fb37b5d215"
  },
  {
   "metadata": {
    "ExecuteTime": {
     "end_time": "2025-02-23T22:28:41.613241Z",
     "start_time": "2025-02-23T22:28:41.607751Z"
    }
   },
   "cell_type": "code",
   "source": [
    "cfo = float(sigmffile.fromfile(f\"{filepath}/{filename}.sigmf\").get_capture_info(0).get(\"core:cfo\",0))\n",
    "cfo"
   ],
   "id": "7b91381e49730407",
   "outputs": [
    {
     "data": {
      "text/plain": [
       "0.16"
      ]
     },
     "execution_count": 22,
     "metadata": {},
     "output_type": "execute_result"
    }
   ],
   "execution_count": 22
  }
 ],
 "metadata": {
  "kernelspec": {
   "display_name": "Python 3",
   "language": "python",
   "name": "python3"
  },
  "language_info": {
   "codemirror_mode": {
    "name": "ipython",
    "version": 2
   },
   "file_extension": ".py",
   "mimetype": "text/x-python",
   "name": "python",
   "nbconvert_exporter": "python",
   "pygments_lexer": "ipython2",
   "version": "2.7.6"
  }
 },
 "nbformat": 4,
 "nbformat_minor": 5
}
