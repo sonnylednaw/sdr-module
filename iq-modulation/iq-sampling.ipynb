{
 "cells": [
  {
   "metadata": {},
   "cell_type": "code",
   "source": [
    "import numpy as np\n",
    "from matplotlib import pyplot as plt\n",
    "from matplotlib.pyplot import yscale\n",
    "from scipy import signal"
   ],
   "id": "49547791b88a8495",
   "outputs": [],
   "execution_count": null
  },
  {
   "metadata": {},
   "cell_type": "markdown",
   "source": [
    "# Am Anfang wird immer in Bursts übertragen, ohne Kontinuierliches Senden\n",
    "\n",
    "# IQ Sampling\n",
    "\n",
    "Ziel dieses Notebooks ist es, ein Verständnis für die generierung und Abtastung von IQ-Samples zu entwickeln. Dabei soll Rauschen und der Einfluss des Kanals zunächst vernachlässigt werden. Der Fokus soll hier allein auf dem Verständnis liegen, wie IQ Samples von einem SDR versendet werden, als reales Signal übertragen werden und wie sie empfangen werden.\n",
    "\n",
    "Am Ende des Notebooks sollte folgendes klar sein:\n",
    "\n",
    "- Was sind IQ-Samples?\n",
    "- Das Sendesignal wird immer komplex beschrieben. Übertragen wird jedoch nur der Realteil. Warum?\n",
    "- Wie werden aus dem realen, analogen Empfangssignal die komplexen IQ-Samples gewonnen?\n",
    "- Warum können der I- und Q-Teil überlagert ausgesendet werden und dennoch beim Empfänger getrennt werden?"
   ],
   "id": "49589742b76111ce"
  },
  {
   "metadata": {},
   "cell_type": "markdown",
   "source": [
    "## Theoretischer Background: TX und RX\n",
    "\n",
    "### Transmitter\n",
    "\n",
    "Der Transmitter (TX) erzeugt ein diskretes komplexes Basisband-Signal $s_{\\text{NF}}[n]$, welches in der Regel als I/Q-Signal bezeichnet wird. Das I/Q-Signal besteht aus zwei Komponenten: der In-Phase-Komponente (I) und der Quadratur-Komponente (Q). Das I/Q-Signal $s_{\\text{NF}}[n]$ wird dann auf eine Trägerfrequenz $f_{\\text{c}}$ hochgemischt und als analoges Passband Signal $s_{\\text{HF}}(t)$ übertragen.\n",
    "\n",
    "\n",
    "\n",
    "$$s_{\\text{NF}}[n] = I[n] + j \\text{ } Q[n]$$\n",
    "\n",
    "* $I[n]$ ist die In-Phase-Komponente (Kosinus Anteil, Realteil)\n",
    "* $Q[n]$ ist die Quadratur-Komponente (Sinus Anteil, Imaginärteil)\n",
    "* Bsp.: QPSK-Sample\n",
    "$$\n",
    "\\begin{align*}\n",
    "s_{\\text{QPSK}} &= 1 + j \\\\\n",
    "                &= \\sqrt{2} \\text{ } e^{j\\frac{\\pi}{4}} \\\\\n",
    "                &=  \\sqrt{2} \\cos(\\frac{\\pi}{4}) + j \\sqrt{2}  \\sin(\\frac{\\pi}{4}) \\\\\n",
    "                &= I + j Q\n",
    "                &= \\sqrt{2} \\left(\\frac{\\sqrt{2}}{2} + j \\frac{\\sqrt{2}}{2}\\right) \\\\\n",
    "                &= 1 + j\n",
    "\\end{align*}\n",
    "$$\n",
    "\n",
    "![IQ Sampling Receiver](./images/IQ_diagram_sender.png)\n",
    "\n",
    "Werden die IQ-Samples vom ausgesendet, werden sie als reales Signal übertragen.\n",
    "\n",
    "$$\n",
    "                        s(t) = I(t) + j \\text{ } Q(t) \\text{ } e^{j 2 \\pi f_{\\text{c}} t} = I(t) \\cos(2 \\pi f_{\\text{c}} t) - Q(t) \\sin(2 \\pi f_{\\text{c}} t)\n",
    "$$\n",
    "\n",
    "Im SDR wird das wie im Blockschaltbild folgendermaßen realisiert:\n",
    "Es wird ein Sinus generiert, welcher auf die Trägerfrequenz $f_{\\text{c}}$ gemischt wird. Dieser wird dann zum einen mit der Imaginären Komponente (Q-Komponente) multipliziert. Und zum anderen wird auf ihn eine Phaseshift von 90° angewendet, das Vorzeichen umgekehrt und mit der realen Komponente (I-Komponente) multipliziert. Die beiden Signale werden dann addiert und ergeben das Sendesignal.\n",
    "\n",
    "Bemerkung Orthogonalität: Die beiden Signale sind orthogonal zueinander, d.h. das Skalarprodukt ist 0. Das bedeutet, dass die beiden Signale unabhängig voneinander sind und der Empfänger die I und Q Komponenten aus der Summe extrahieren kann.\n",
    "$$\n",
    "    s_{\\text{HF}}(t) = I(t) \\cos(2 \\pi f_{\\text{c}} t) + Q(t) \\sin(2 \\pi f_{\\text{c}} t)\n",
    "$$"
   ],
   "id": "acc5fee531382b4a"
  },
  {
   "metadata": {},
   "cell_type": "code",
   "source": [
    "def generate_m_sequence_16bit():\n",
    "    \"\"\"\n",
    "    Generiert eine 16 Bit lange M-Sequenz mit LFSR (Linear Feedback Shift Register)\n",
    "    Verwendetes primitives Polynom: x^4 + x^3 + 1 (Taps an Position 3 und 4)\n",
    "    \"\"\"\n",
    "    register = [1, 1, 1, 1]  # Initialzustand (darf nicht alle 0 sein)\n",
    "    sequence = []\n",
    "\n",
    "    for _ in range(16):\n",
    "        # Feedback-Berechnung (XOR der Taps)\n",
    "        feedback = register[3] ^ register[2]  # 0-indizierte Positionen\n",
    "        sequence.append(register.pop())\n",
    "        register.insert(0, feedback)\n",
    "\n",
    "    return sequence\n",
    "\n",
    "\n",
    "def normalize_energy(signal):\n",
    "    energy = np.sum(np.abs(signal) ** 2)\n",
    "    return signal / np.sqrt(energy)\n"
   ],
   "id": "b9a8e6966493b4a5",
   "outputs": [],
   "execution_count": null
  },
  {
   "metadata": {},
   "cell_type": "markdown",
   "source": [
    "## Generierung des Sendesignals\n",
    "\n",
    "Das Sendesignal wird aus den Datenbits und einer Synchronisationssequenz generiert. Die Synchronisationssequenz wird verwendet, um den Empfänger zu synchronisieren. Das Sendesignal wird dann mit einem Raised-Cosine Filter gepulst, um die Bandbreite des Signals zu begrenzen.\n",
    "\n",
    "### Konvertierung der Datenbits $\\vec{b}[i]$ in BPSK Samples\n",
    "\n",
    "   $$\n",
    "    \\text{BPSK}(i) = \\vec{b}[i] \\cdot 2 - 1\n",
    "   $$\n",
    "\n",
    "Es sollen T = 8 Samples pro Symbol verwendet werden. Das Sendesignal wird dann wie folgt generiert:\n",
    "\n",
    "$$\n",
    "    x_{\\text{NF, no shape}}[n] = \\sum_{i=0}^{N-1} \\text{BPSK}(i) \\delta\\left(n - i T\\right)\n",
    "$$\n",
    "\n",
    "Für IQ-Modulation wird das für den I und Q Teil getrennt durchgeführt, somit ergibt sich:\n",
    "\n",
    "$$\n",
    "    x_{\\text{I, no shape}}[n] = \\Re\\left\\{x_{\\text{NF, no shape}}[n]\\right\\}\n",
    "$$\n",
    "$$\n",
    "    x_{\\text{Q, no shape}}[n] = \\Im\\left\\{x_{\\text{NF, no shape}}[n]\\right\\}\n",
    "$$\n",
    "\n",
    "Im Falle von BPSK bleibt der Imaginärteil immer 0, da die BPSK Symbole nur auf der Realachse liegen, sodass hier nur $x_{\\text{I, no shape}}[n]$ betrachtet wird."
   ],
   "id": "b7d6e0655a3958cc"
  },
  {
   "metadata": {},
   "cell_type": "markdown",
   "source": [
    "## Generierung der Bits $\\vec{b}[i]$\n",
    "\n",
    "#### Aufgabe:\n",
    "- Erstellen Sie ein beliebige Datenbits in `data_bits`"
   ],
   "id": "9c6549a7f649a813"
  },
  {
   "metadata": {},
   "cell_type": "code",
   "source": "data_bits = np.array([0,0,1,1,1])",
   "id": "d54db50c89e8c170",
   "outputs": [],
   "execution_count": null
  },
  {
   "metadata": {},
   "cell_type": "markdown",
   "source": [
    "#### Aufgabe:\n",
    "- Erstellen Sie im Binären Format eine Synchronisationssequenz in `synchronization_sequence`\n",
    "- Hinweis: Sie können auch die obige Funktion `generate_m_sequence_16bit()` verwenden"
   ],
   "id": "712ef4d991cbdea0"
  },
  {
   "metadata": {},
   "cell_type": "code",
   "source": "synchronization_sequence = generate_m_sequence_16bit()",
   "id": "dc43ad78adee0421",
   "outputs": [],
   "execution_count": null
  },
  {
   "metadata": {},
   "cell_type": "markdown",
   "source": [
    "#### Aufgabe:\n",
    "- Konkatenieren Sie die Synchronisationssequenz mit den Datenbits\n",
    "- Die Konkatenation führt zu $\\vec{b}[i]$ und soll in `bits` definiert werden"
   ],
   "id": "fa903568f5b5dd4b"
  },
  {
   "metadata": {},
   "cell_type": "code",
   "source": [
    "bits = np.concatenate((synchronization_sequence, data_bits))\n",
    "bits"
   ],
   "id": "e2973248c05c5123",
   "outputs": [],
   "execution_count": null
  },
  {
   "metadata": {},
   "cell_type": "markdown",
   "source": [
    "### Mapping der Bits $\\vec{b}[i]$ auf BPSK Modulationssymbole\n",
    "\n",
    "- Ziel: NumPy Array mit den Modulationssymbolen\n",
    "- Jedes Bit $\\vec{b}[i]$ wird auf ein BPSK Modulationssymbol gemappt\n",
    "- Anweisung: Überlegen Sie sich, wie Sie die Bits auf die BPSK-Modulationssymbole mappen\n",
    "\n",
    "#### Aufgabe:\n",
    "- Erstellen Sie ein Array `BPSK`, welches die gemappten bits $\\vec{b}[i]$ enthält"
   ],
   "id": "cec42d702bf38557"
  },
  {
   "metadata": {},
   "cell_type": "code",
   "source": "BPSK = 2 * bits - 1",
   "id": "3057d3d9b4fae1d2",
   "outputs": [],
   "execution_count": null
  },
  {
   "metadata": {},
   "cell_type": "markdown",
   "source": "### Design Basisbandpulse $h_{\\text{Pulse Form}}[n]$",
   "id": "4bebf34b08269580"
  },
  {
   "metadata": {},
   "cell_type": "code",
   "source": [
    "def get_raised_cosine_pulse(num_taps=101, roll_off=0.35, samples_per_symbol=8):\n",
    "    Ts = samples_per_symbol # Assume sample rate is 1 Hz, so sample period is 1, so *symbol* period is 8\n",
    "    t = np.arange(num_taps) - (num_taps-1)//2\n",
    "    h = np.sinc(t/Ts) * np.cos(np.pi*roll_off*t/Ts) / (1 - (2*roll_off*t/Ts)**2)\n",
    "    return h\n",
    "\n",
    "def get_rect_pulse(num_taps=101, samples_per_symbol=8):\n",
    "    h = np.zeros(num_taps)\n",
    "    h[num_taps//2-samples_per_symbol//2:num_taps//2+samples_per_symbol//2] = 1\n",
    "    return h"
   ],
   "id": "b66dbffbc11edbc3",
   "outputs": [],
   "execution_count": null
  },
  {
   "metadata": {},
   "cell_type": "markdown",
   "source": [
    "#### Aufgabe:\n",
    "- Machen Sie sich mit den nachfolgenden Parametern vertraut, diese werden nachfolgend immer wieder verwendet und spielen eine wichtige Rolle für die korrekte Auflösung der Signale\n",
    "- Befolgen Sie die Anweisungen in den Kommentaren (Sie können die Parameter auch selbst sinnvoll frei wählen)."
   ],
   "id": "f8a24f9e93df0c44"
  },
  {
   "metadata": {},
   "cell_type": "code",
   "source": [
    "# Basisband Puls soll eine Dauer T_s von 0.5 Sekunden haben\n",
    "T_s = 1/2 # in seconds\n",
    "\n",
    "# Der Puls soll 16 samples lang sein\n",
    "sps = 16\n",
    "\n",
    "# Dauer eines Samples entspricht T_s / sps\n",
    "T_sample = T_s / sps\n",
    "\n",
    "# num_tabs gibt die Gesamtlänge des Basisband Pulses an, muss natürlich länger sein als die Länge des Pulses sps. sps=101 wäre eine gute Zahl.\n",
    "num_taps = 101"
   ],
   "id": "9c97c86589fa10ae",
   "outputs": [],
   "execution_count": null
  },
  {
   "metadata": {},
   "cell_type": "markdown",
   "source": [
    "#### Aufgabe:\n",
    "- Erstellen Sie einen Basisband Pulse $h_{\\text{Pulse Form}}[n]$\n",
    "- Verwenden Sie dazu eine der oben bereits definierten Funktionen:\n",
    "    - `get_rect_pulse`\n",
    "    - `get_raised_cosine_pulse`\n",
    "- Empfehlung: Beginnen Sie mit einem  $h_{\\text{Pulse Form}}[n] = \\text{rect}[n]$, so können Sie später die Unterschiede bei Verwendung eines *Raised Cosine Pulses* besser erkennen."
   ],
   "id": "e051e20cad51d11b"
  },
  {
   "metadata": {},
   "cell_type": "code",
   "source": [
    "h_pulse_form = get_rect_pulse(num_taps=num_taps, samples_per_symbol=sps)\n",
    "t = np.arange(len(h_pulse_form)) * T_sample - len(h_pulse_form)//2 * T_sample"
   ],
   "id": "1b95dd824e2c0f1b",
   "outputs": [],
   "execution_count": null
  },
  {
   "metadata": {},
   "cell_type": "code",
   "source": [
    "plt.figure(1)\n",
    "plt.plot(t, h_pulse_form, '.')\n",
    "plt.plot(t, h_pulse_form, '-', alpha=0.25)\n",
    "plt.xlabel(r'$t$ [s]')\n",
    "plt.ylabel(r'$h[n]$')\n",
    "plt.title(r\"Basisband Impuls $h_{\\mathrm{Pulse\\,Form}}[n]$ with $T_s = $\" + f\"{T_s}\")\n",
    "plt.grid(True)\n",
    "plt.legend([\"Samples\", \"Interpoliert\"])"
   ],
   "id": "4a8c7380b66fafeb",
   "outputs": [],
   "execution_count": null
  },
  {
   "metadata": {},
   "cell_type": "markdown",
   "source": "### Spektrum des Basisbandimpulses $\\mathfrak{F} \\{ h_{\\text{Pulse Form}}[n] \\}$",
   "id": "653d67425c29cc13"
  },
  {
   "metadata": {},
   "cell_type": "markdown",
   "source": [
    "- Hinweis: Den Frequenzvektor $f$ erhalten Sie durch die Funktion `np.fft.fftfreq(signal.length, time_between_samples)`\n",
    "- NumPy bringt die Nullfrequenz an den Anfang, daher sollten Sie die Funktion `np.fft.fftshift` verwenden, um die Nullfrequenz in die Mitte zu schieben\n",
    "- Denken Sie daran, das gleiche auch für den Frequenzvektor $f$ zu tun\n",
    "\n",
    "#### Aufgabe\n",
    "- Berechnen Sie $\\mathfrak{F} \\{ h_{\\text{Pulse Form}}[n] \\}$ für `baseband_spectrum`\n",
    "- Erstellen Sie in passender Auflösung dazu den Frequenzvektor `f`"
   ],
   "id": "5b0278e6768a5686"
  },
  {
   "metadata": {},
   "cell_type": "code",
   "source": [
    "baseband_spectrum = np.fft.fftshift(np.fft.fft(h_pulse_form))\n",
    "f = np.fft.fftshift(np.fft.fftfreq(len(h_pulse_form), T_sample))"
   ],
   "id": "c7255f0c64dcd019",
   "outputs": [],
   "execution_count": null
  },
  {
   "metadata": {},
   "cell_type": "code",
   "source": [
    "plt.plot(f, np.abs(baseband_spectrum)**2)\n",
    "plt.suptitle(r\"Spektrum des Basisbandimpulses $\\mathfrak{F} \\{ h_{\\mathrm{Pulse\\,Form}}[n] \\}$ mit $T_s = $\" + f\"{T_s}\")\n",
    "plt.xlabel(r'$f$ [Hz]')\n",
    "plt.ylabel(r'$|H(f)|$ [dB]')\n",
    "plt.grid(True)\n",
    "plt.yscale('log')\n",
    "plt.ylim(10e-3, 10e3)"
   ],
   "id": "ab759cfab9e4ca56",
   "outputs": [],
   "execution_count": null
  },
  {
   "metadata": {},
   "cell_type": "markdown",
   "source": [
    "### Bilden Sie die Dirac-Summe der Modulationssymbole $ \\sum_{i=0}^{N-1} \\text{BPSK}(i) \\delta\\left(t - i T_s\\right) $\n",
    "\n",
    "- Ziel: NumPy Array mit der Dirac-Summe\n",
    "- Hinweis: Die Zeit $t$ ist diskret, wobei ein Indexbin $n$ einem Zeitpunkt $t = n \\cdot T_{\\text{Sample}}$ entspricht\n",
    "    - Die Dauer eines Samples $T_{\\text{sample}}$ ist gegeben durch: $T_{\\text{sample}} = \\frac{T_s}{\\text{sps}}$\n",
    "- Das bedeutet die einzelnen Dirac-Summanden brauchen einen zeitlichen Abstand von $T_{\\text{s}}$,\n",
    "was in Samples durch die Beziehung $T_{Sample} $  [ $ \\frac{s}{Sample} $] $ =  \\frac{T_s}{sps} \\text{ } $[ $ \\frac{s}{Sample} $] gegeben ist. Durch Umstellen ergibt sich der Abstand in Samples durch:\n",
    "\n",
    "$$ \\text{sps} = \\frac{T_s}{T_{\\text{Sample}}} \\quad \\text{, die Einheit beider Seiten ist nun Samples}$$\n",
    "\n",
    "In Bins ausgedrückt ergibt sich die Dirac-Summe also zu:\n",
    "\n",
    "$$\n",
    "    x_{\\text{I, no shape}}[n] = \\sum_{i=0}^{N-1} \\text{BPSK}(i) \\delta\\left(n - i \\text{ sps}\\right) \\quad \\text{, mit } N = \\text{len(BPSK)}\\cdot sps\n",
    "$$\n",
    "\n",
    "#### Aufgabe:\n",
    "- Erstellen Sie die Dirac-Summe `x_i_no_shape`\n",
    "- Erstellen Sie zusätzlich die Zeitvariable `t`\n",
    "- Hinweis: Der `signal.gausspulse` der Scipy Bibliothek kann für $\\delta (t)$ verwendet werden\n"
   ],
   "id": "4b347b9b979272cf"
  },
  {
   "metadata": {},
   "cell_type": "code",
   "source": [
    "x_i_no_shape = np.zeros(len(BPSK) * sps)\n",
    "t = np.arange(len(x_i_no_shape)) * T_sample\n",
    "for n in range(len(BPSK)):\n",
    "    x_i_no_shape += BPSK[n] * signal.gausspulse(t - n*T_s)"
   ],
   "id": "41d696180242d138",
   "outputs": [],
   "execution_count": null
  },
  {
   "metadata": {},
   "cell_type": "code",
   "source": [
    "plt.stem(t, x_i_no_shape)\n",
    "plt.grid(True)\n",
    "plt.xlabel(r'$t$ (s)')\n",
    "plt.ylabel(r'$x_{\\rm{I, no shape}}[n]$')\n",
    "plt.yticks([-1, -0.5, 0, 0.5, 1])\n",
    "plt.title(r\"Dirac-Summe $x_{\\rm{I, no shape}}[n]$\")\n",
    "plt.show()"
   ],
   "id": "24ae58fc7656259a",
   "outputs": [],
   "execution_count": null
  },
  {
   "metadata": {},
   "cell_type": "markdown",
   "source": [
    "## Pulsformung\n",
    "\n",
    "Das Sendesignal wird nun mit der Basisbandpulse $h_{\\tiny{\\text{Pulse Form}}}[n]$ Form geformt. Die BPSK Modulationssamples für den I-Anteil werden $x_{\\text{I, no shape}}[n] = \\Re\\left\\{x_{\\text{NF, no shape}}[n]\\right\\}$ (Dirac-Summe) werden also mit $h_{\\tiny{\\text{Pulse Form}}}[n]$ gefaltet:\n",
    "\n",
    "$$\n",
    "    x_{\\text{I, shaped}}[n] = x_{\\text{I, no shape}}[n] * h_{\\tiny{\\text{Pulse Form}}}[n]\n",
    "$$\n",
    "Wird als Basisbandpuls ein Raised-Cosine verwendet, ergibt sich die Faltung zu:\n",
    "$$\n",
    "h_{\\tiny{\\text{Pulse Form}}}[n] = \\text{sinc}\\left(\\frac{n}{T_s f_s}\\right) \\cdot \\frac{\\cos\\left(\\pi \\beta \\frac{n}{T_s f_s}\\right)}{1 - \\left(2 \\beta \\frac{n}{T_s f_s}\\right)^2}\n",
    "$$\n",
    "\n",
    "where:\n",
    "\\begin{align*}\n",
    "\\text{sinc}(x) &= \\frac{\\sin(\\pi x)}{\\pi x} \\\\\n",
    "T_s &= \\text{symbol period} \\\\\n",
    "\\beta &= \\text{roll-off factor} \\\\\n",
    "f_s &= \\text{sampling frequency}\n",
    "\\end{align*}"
   ],
   "id": "f13490a9a63751d0"
  },
  {
   "metadata": {},
   "cell_type": "markdown",
   "source": [
    "#### Aufgabe:\n",
    "\n",
    "- Berechnung von $x_{\\text{I, shaped}}[n]$ in `x_i_shaped`\n",
    "- Erstellen Sie ein passenden Zeitvektor `t`\n",
    "- Hinweise:\n",
    "    - Nutzen Sie die Funktion `np.convolve` für die Faltung\n",
    "    - Der Basisbandpuls $h_{\\tiny{\\text{Pulse Form}}}[n]$ ist bereits gegeben: `h_pulse_form`"
   ],
   "id": "d1d774fc97939298"
  },
  {
   "metadata": {},
   "cell_type": "code",
   "source": [
    "x_i_shaped = np.convolve(x_i_no_shape, h_pulse_form)\n",
    "t = np.arange(x_i_shaped.size) * T_sample"
   ],
   "id": "c116061f4d3fd9e9",
   "outputs": [],
   "execution_count": null
  },
  {
   "metadata": {},
   "cell_type": "code",
   "source": [
    "# convert the shape of the dirac sum to the shape of the convolution result\n",
    "dirac_sum_zero_padded = np.zeros(len(x_i_shaped))\n",
    "dirac_sum_zero_padded[h_pulse_form.size//2-1:h_pulse_form.size//2+len(x_i_no_shape)-1] = x_i_no_shape\n",
    "plt.suptitle(r\"Geformtes Basisbandsignal: $x_{\\rm{I, shaped}}[n]$\")\n",
    "plt.stem(t, dirac_sum_zero_padded, 'r')\n",
    "plt.plot(t, x_i_shaped, 'b', linewidth=4, alpha=0.9)\n",
    "plt.yticks([-1, -0.5, 0, 0.5, 1])\n",
    "plt.grid(True)\n",
    "plt.xlabel(r'$t$ (s)')\n",
    "plt.ylabel(r'$x_{\\rm{I, shaped}}[n]$')\n",
    "plt.show()"
   ],
   "id": "18e4706aeb36fca1",
   "outputs": [],
   "execution_count": null
  },
  {
   "metadata": {},
   "cell_type": "markdown",
   "source": [
    "#### Spektrum des geformten Sendesignals $\\mathfrak{F} \\{x_{\\text{I, shaped}}[n] \\}$\n",
    "\n",
    "#### Aufgabe:\n",
    "- Berechnen Sie $\\mathfrak{F} \\{x_{\\text{I, shaped}}[n] \\}$ und speichern Sie das Ergebnis in `x_i_shaped_spectrum`\n",
    "- Erstellen Sie in der korrekten Auflösung den zugehörigen Frequenzvektor `f`"
   ],
   "id": "9427bcbbfc1c1a6a"
  },
  {
   "metadata": {},
   "cell_type": "code",
   "source": [
    "x_i_shaped_spectrum = np.fft.fftshift(np.fft.fft(x_i_shaped))\n",
    "f = np.fft.fftshift(np.fft.fftfreq(x_i_shaped.size, T_sample))"
   ],
   "id": "208aac8c58ef62e7",
   "outputs": [],
   "execution_count": null
  },
  {
   "metadata": {},
   "cell_type": "code",
   "source": [
    "plt.plot(f, np.abs(x_i_shaped_spectrum)**2)\n",
    "plt.suptitle(r\"Spektrum des geformten Basisbandsignals: $X_{\\rm{I, shaped}}(f)$\")\n",
    "plt.xlabel(r\"$f$  [Hz]\")\n",
    "plt.ylabel(r\"$|X_{\\rm{I, shaped}}(f)|$ [dB]\")\n",
    "plt.grid(True)\n",
    "plt.ylim(10e-3,10e4)\n",
    "plt.yscale('log')"
   ],
   "id": "c2ecf32d48be5b27",
   "outputs": [],
   "execution_count": null
  },
  {
   "metadata": {},
   "cell_type": "markdown",
   "source": [
    "### Aufbau des Trägersignals\n",
    "\n",
    "![IQ Sampling Receiver](./images/IQ_diagram_sender.png)\n",
    "\n",
    "- Gemäß des Blockschaltbildes brauchen wir ein Carrier $s_c(t)$, welcher das Basisbandsignal auf eine Trägerfrequenz $f_c$ hochmischen kann\n",
    "- Dieser wird direkt mit dem I-Anteil des Basisbandsignals $x_{\\text{I, shaped}}(t)$ multipliziert\n",
    "- Der I-Anteil wird laut obigen Berechnungen mit dem Cosinus übertragen. Blockschaltbild konform muss $s_c(t)$ für den I-Anteil also wie folgt aussehen:\n",
    "$$\n",
    "    s_{\\text{c,I}}(t) = \\cos(2 \\pi f_c t)\n",
    "$$\n",
    "- Aus der $90°$ Phasendrehung folgt, dass $s_c(t)$ für den Q-Anteil wie folgt aussehen muss:\n",
    "$$\n",
    "    s_{\\text{c,Q}}(t) = \\cos(2 \\pi f_c t + \\frac{\\pi}{2}) = \\sin(2 \\pi f_c t)\n",
    "$$\n",
    "\n",
    "#### Aufgabe:\n",
    "- Generieren Sie zu $f_c = 2$ die Träger $s_{\\text{c,I}}(t)$ in `s_c_I` und $s_{\\text{c,Q}}(t)$ in `s_c_Q`\n",
    "- Erstellen Sie einen passenden Zeitvektor `t`"
   ],
   "id": "da92683edc4824b"
  },
  {
   "metadata": {},
   "cell_type": "code",
   "source": [
    "t = np.arange(x_i_shaped.size) * T_sample\n",
    "f_c = 2\n",
    "\n",
    "s_c_I = np.cos(2*np.pi*f_c*t)\n",
    "s_c_Q = np.cos(2*np.pi*f_c*t - np.pi/2)"
   ],
   "id": "22e0b44ef6eb984f",
   "outputs": [],
   "execution_count": null
  },
  {
   "metadata": {},
   "cell_type": "code",
   "source": [
    "plt.plot(t, s_c_I)\n",
    "plt.plot(t, s_c_Q)\n",
    "plt.suptitle(r\"Träger $s_c(t)$\")\n",
    "plt.xlabel(r\"$t$ [s]\")\n",
    "plt.ylabel(r\"$s_c(t)$\")\n",
    "plt.legend([r\"$s_{\\rm{c,I}}(t) $\", r\"$s_{\\rm{c,Q}}(t) $\"])\n",
    "plt.yticks([-1,-0.5,0,0.5,1])"
   ],
   "id": "c0c7e6e61ef87aa3",
   "outputs": [],
   "execution_count": null
  },
  {
   "metadata": {},
   "cell_type": "markdown",
   "source": [
    "### Hoschmischen des Basisbandsignals $x_{\\text{I, shaped}}(t)$ auf die Trägerfrequenz $f_c$\n",
    "\n",
    "- Hinweis: Es wurde von Beginn an BPSK verwendet. Die Symbole haben ausschließlich einen Realteil, daher ist der Q-Anteil des Basisbandsignals  $x_{\\text{Q, shaped}}(t) = 0$. Es muss demnach also nur der I-Anteil hochgemischt werden $x_{\\text{I, shaped}}(t)$:\n",
    "\n",
    "Das Passbandsignal $s_{\\text{HF}}(t)$ kann also wie folgt beschrieben werden:\n",
    "$$\n",
    "    s_{\\text{HF}}(t) = I(t) \\cos(2 \\pi f_{\\text{c}} t) - Q(t) \\sin(2 \\pi f_{\\text{c}} t) = x_{\\text{I, shaped}}(t) \\cos(2 \\pi f_{\\text{c}} t) - 0 \\cdot \\sin(2 \\pi f_{\\text{c}} t)\n",
    "$$\n",
    "\n",
    "#### Aufgabe:\n",
    "- Berechnen Sie $s_{\\text{HF}}(t)$ in `s_hf`\n",
    "- Erstellen Sie den passenden Zeitvektor `t`"
   ],
   "id": "41bde61b382cfd9e"
  },
  {
   "metadata": {},
   "cell_type": "code",
   "source": [
    "s_hf = x_i_shaped * s_c_I - 0 * s_c_Q\n",
    "t = np.arange(s_hf.size) * T_sample"
   ],
   "id": "ac5221c2e3945b27",
   "outputs": [],
   "execution_count": null
  },
  {
   "metadata": {},
   "cell_type": "code",
   "source": [
    "plt.plot(t, s_hf)\n",
    "plt.plot(t, x_i_shaped, color='red')\n",
    "plt.suptitle(r\"Passbandsignal $s_{\\rm{HF}}(t)$\")\n",
    "plt.ylabel(r\"$s_{\\rm{HF}}(t)$\")\n",
    "plt.xlabel(r\"$t$ [s]\")"
   ],
   "id": "691888e157cf64a3",
   "outputs": [],
   "execution_count": null
  },
  {
   "metadata": {},
   "cell_type": "markdown",
   "source": [
    "#### Spektrum des Passbandsignals $\\mathfrak{F} \\{ s_{\\tiny{\\text{HF}}}(t) \\}$\n",
    "\n",
    "#### Aufgabe:\n",
    "- Berechnen Sie $\\mathfrak{F} \\{ s_{\\tiny{\\text{HF}}}(t) \\}$ in `s_hf_spectrum`\n",
    "- Erstellen Sie in passender Auflösung den zugehörigen Frequenzvektor `f`"
   ],
   "id": "2c33c0e312cbeee3"
  },
  {
   "metadata": {},
   "cell_type": "code",
   "source": [
    "s_hf_spectrum = np.fft.fftshift(np.fft.fft(s_hf))\n",
    "f = np.fft.fftshift(np.fft.fftfreq(s_hf.size, T_sample))"
   ],
   "id": "23a2c9ca53d9cc34",
   "outputs": [],
   "execution_count": null
  },
  {
   "metadata": {},
   "cell_type": "code",
   "source": [
    "plt.suptitle(r\"Spektrum des Passbandsignals: $s_{\\rm{HF}}(f)$\")\n",
    "plt.plot(f, np.abs(s_hf_spectrum)**2)\n",
    "plt.xlabel(r\"$f$ [Hz]\")\n",
    "plt.ylabel(r\" $ | s_{\\rm{HF}}(f) | $ [dB]\")\n",
    "plt.grid(True)\n",
    "plt.yscale('log')\n",
    "plt.ylim(10e-4, 10e4)\n",
    "plt.show()"
   ],
   "id": "f057dd6e71cae539",
   "outputs": [],
   "execution_count": null
  },
  {
   "metadata": {},
   "cell_type": "markdown",
   "source": [
    "## Empfänger (Direct Downconversation)\n",
    "\n",
    "Bei der _Direct Downconversation_, wird vom Empfangssignal im SDR der I und Q Teil separat extrahiert. Nur so kann das reale Empfangssignal wieder in die komplexe Basisbandsignalform zurückgeführt werden.\n",
    "\n",
    "<div style=\"text-align: center;\">\n",
    "    <img src=\"./images/IQ_sampling_receiver.png\" alt=\"IQ Sampling Receiver\" width=\"400\"/>\n",
    "</div>\n",
    "\n",
    "- Gemäß Blockschaltbild wird ein Trägersignal $s_{\\text{c}}(t)$ benötigt. Dieses muss die gleiche Trägerfrequenz $f_c$ haben wie auch der Träger beim Sender\n",
    "    - Für den I-Anteil wird wie beim Sender $s_{\\text{c,I}}(t) = \\cos(2 \\pi f_c t)$ verwendet (oberer Teil im Blockschaltbild)\n",
    "    - Für den Q-Anteil wird eine Phasendrehung von $\\Phi = \\frac{\\pi}{2}$ auf $ s_{\\text{c,I}}(t) $ angewendet: $s_{\\text{c,Q}}(t) = \\cos(2 \\pi f_c t + \\frac{\\pi}{2}) = \\sin(2 \\pi f_c t)$\n",
    "- Wichtig: Die Schritte Heruntermischen und Filtern finden bis zur ADC kontinuierlich statt\n",
    "- Bei der ADC wird das Signal mit der Sampling Rate $f_s$ *diskretisiert* und die reellen Samples *quantisiert*\n",
    "\n",
    "\n",
    "\n",
    "\n",
    "## Extraktion des I-Anteils (oberer Teil im Blockschaltbild):\n",
    "\n",
    "Das Heruntermischen von $ s_{\\text{HF}}(t) $ mit dem Träger für den I-Anteil $s_{\\text{c,I}}(t)$ lässt sich wie folgt beschreiben:\n",
    "\n",
    "\\begin{align*}\n",
    "    \\hat{I}_{\\text{No Filter}}(t) &= s_{\\text{HF}}(t) s_{\\text{c,I}}(t) \\\\\n",
    "    &= s_{\\text{HF}}(t) \\cos(2\\pi f_{\\text{c}} t) \\\\\n",
    "    &= \\frac{1}{2} I(t) \\cos(4\\pi f_{\\text{c}} t) + \\frac{1}{2} Q(t) I(t) \\sin(4\\pi f_{\\text{c}} t) + \\frac{1}{2} I(t)\n",
    "\\end{align*}\n",
    "Ziel: Hochfrequente Anteile entfernen, sodass $\\frac{1}{2} I(t)$ übrig bleibt.\n",
    "\n",
    "Die hochfrequenten Anteile bei $2f_{\\text{c}}$ und $-2f_{\\text{c}}$ werden durch einen Tiefpassfilter $h_{\\tiny{\\text{TP}}}(t)$ eliminiert:\n",
    "\n",
    "\\begin{align*}\n",
    "    \\hat{I}_{\\text{Filtered}}(t) &= \\hat{I}_{\\text{No Filter}}(t) * h_{\\tiny{\\text{TP}}}(t) \\\\\n",
    "    &= \\mathfrak{F^{-1}} \\{ \\hat{I}_{\\text{No Filter}}(f) \\cdot H_{\\tiny{\\text{TP}}}(f) \\} \\\\\n",
    "    &\\approx x_{\\text{I, shaped}}(t) \\approx x_{\\text{I, no shape}}(t) * h_{\\tiny{\\text{Pulse Form}}}(t)\n",
    "\\end{align*}\n",
    "\n",
    "Der I-Anteil des Basisbandsignals $\\hat{I}[n]$ wird dann durch eine ADC (Diskretisierung & Quantisierung) des Signals gewonnen:\n",
    "\\begin{align*}\n",
    "    \\hat{I}_{\\text{Filtered}}(t) &\\approx x_{\\text{I, no shape}}(t) * h_{\\tiny{\\text{Pulse Form}}}(t) \\\\\n",
    "    \\hat{I}[n] &= x_{\\text{I, no shape}}[n] * h_{\\tiny{\\text{Pulse Form}}}[n] \\text{, } \\quad t= \\frac{n}{f_s}\n",
    "\\end{align*}"
   ],
   "id": "b4d913e0c53adbf6"
  },
  {
   "metadata": {},
   "cell_type": "markdown",
   "source": [
    "## Extraktion des Q-Anteils (unterer Teil im Blockschaltbild):\n",
    "\\begin{align*}\n",
    "    \\hat{Q}_{\\text{No Filter}}(t) &= s_{\\text{HF}}(t) s_{\\text{c,Q}}(t) \\\\\n",
    "    &= s_{\\text{HF}}(t) \\sin(2\\pi f_{\\text{c}} t) \\\\\n",
    "    &= \\frac{1}{2} I(t) Q(t) \\sin(4\\pi f_{\\text{c}} t) - \\frac{1}{2} Q(t) \\cos(4\\pi f_{\\text{c}} t) + \\frac{1}{2} Q(t)\n",
    "\\end{align*}\n",
    "\n",
    "Ziel: Hochfrequente Anteile entfernen, sodass $\\frac{1}{2} Q(t)$ übrig bleibt.\n",
    "\n",
    "Die hochfrequenten Anteile bei $2f_{\\text{c}}$ und $-2f_{\\text{c}}$ werden durch einen Tiefpassfilter $h_{\\tiny{\\text{TP}}}(t)$ eliminiert:\n",
    "\n",
    "\\begin{align*}\n",
    "    \\hat{Q}_{\\text{Filtered}}(t) &= \\hat{Q}_{\\text{No Filter}}(t) * h_{\\tiny{\\text{TP}}}(t) \\\\\n",
    "    &= \\mathfrak{F^{-1}} \\{ \\hat{Q}_{\\text{No Filter}}(f) \\cdot H_{\\tiny{\\text{TP}}}(f) \\} \\\\\n",
    "    &\\approx x_{\\text{Q, shaped}}(t) \\approx x_{\\text{Q, no shape}}(t) * h_{\\tiny{\\text{Pulse Form}}}(t)\n",
    "\\end{align*}\n",
    "\n",
    "Der Q-Anteil des Basisbandsignals $\\hat{Q}[n]$ wird dann durch eine ADC (Diskretisierung & Quantisierung) des Signals gewonnen:\n",
    "\\begin{align*}\n",
    "    \\hat{Q}_{\\text{Filtered}}(t) &\\approx x_{\\text{Q, no shape}}(t) * h_{\\tiny{\\text{Pulse Form}}}(t) \\\\\n",
    "    \\hat{Q}[n] &= x_{\\text{Q, no shape}}[n] * h_{\\tiny{\\text{Pulse Form}}}[n] \\text{, } \\quad t= \\frac{n}{f_s}\n",
    "\\end{align*}"
   ],
   "id": "8aa45a8106d417fc"
  },
  {
   "metadata": {},
   "cell_type": "markdown",
   "source": [
    "## Ende: Bildung des NumPy Arrays, welches die SDR _uhd_ Bibliothek bereitstellt\n",
    "\n",
    "Am Ende werden vom SDR die I und Q Komponenten wieder zu einem komplexen Signal zusammengefügt, dass im NumPy Array dann der Realteil eines Samples dessen I Sample enthält und der Imaginärteil dessen zugehörigen Q Sample enthält.\n",
    "\n",
    "Ein Sample am Index $n$ eines NumPy Arrays $\\text{Array}[n]$ enthält also die I- und Q-Komponente des $n$-ten Symbols:\n",
    "\n",
    "$$\n",
    "    \\text{Array}[n] = I[n] + j \\text{ } Q[n]\n",
    "$$\n",
    "\n",
    "\n",
    "\n",
    "## Diese Schritte werden nachfolgend einmal durchgeführt.\n",
    "\n",
    "\n",
    "\n"
   ],
   "id": "71723e1d7aeefa5e"
  },
  {
   "metadata": {},
   "cell_type": "markdown",
   "source": [
    "## 1. Heruntermischen des Signals in zurück in das Basisband\n",
    "\n",
    "- Es wurde BPSK verwendet, daher ist der Q-Anteil Null. $\\hat{Q}_{\\tiny{\\text{No Filter}}}$ muss also nicht berechnet werden womit der untere Teil des obigen Empfänger Blockschaltbildes hier nicht berechnet werden muss.\n",
    "- Der obere Teil des Empfänger Blockschaltbildes führt zum Erhalt des I-Anteils, welcher die BPSK Symbole trägt.\n",
    "\n",
    "#### Aufgabe:\n",
    "- Berechnen Sie $\\hat{I}_{\\tiny{\\text{No Filter}}}(t)$ in `I_hat_i_no_filter`, um das heruntergemischte Signal zu erhalten\n",
    "$$\n",
    "     \\hat{I}_{\\tiny{\\text{No Filter}}}(t) = s_{\\tiny{\\text{HF}}}(t)  s_{\\text{c,I}}(t) \\text{,} \\quad \\text{ mit } s_{\\text{c,I}}(t) = \\cos(2 \\pi f_c t)\n",
    "$$\n",
    "- Erstellen Sie in passender Auflösung den zugehörigen Zeitvektor `t`\n"
   ],
   "id": "d371e3a5cb909cbc"
  },
  {
   "metadata": {},
   "cell_type": "code",
   "source": [
    "I_hat_i_no_filter = s_hf * s_c_I\n",
    "t = np.arange(I_hat_i_no_filter.size) * T_sample"
   ],
   "id": "15503e78988a58ef",
   "outputs": [],
   "execution_count": null
  },
  {
   "metadata": {},
   "cell_type": "code",
   "source": [
    "plt.plot(t, I_hat_i_no_filter)\n",
    "plt.suptitle(r\"Heruntergemischtes Basisbandsignal: $\\hat{I}_{\\rm{No Filter}}(t)$\")\n",
    "plt.xlabel(r\"$t$ [s]\")\n",
    "plt.ylabel(r\"$\\hat{I}_{\\rm{No Filter}}(t)$\")\n",
    "plt.grid(True)\n",
    "plt.yticks([-1,-0.5,0,0.5,1])"
   ],
   "id": "8ea6d8fb07caba5e",
   "outputs": [],
   "execution_count": null
  },
  {
   "metadata": {},
   "cell_type": "markdown",
   "source": [
    "### Spektrum des heruntergemischten Empfangssignals $\\mathfrak{F} \\{ \\hat{I}_{\\tiny{\\text{No Filter}}}(t)  \\}$\n",
    "\n",
    "#### Aufgabe:\n",
    "- Berechnen Sie $\\hat{I}_{\\tiny{\\text{No Filter}}}(f) $ in `I_hat_i_no_filter_spectrum`, um das Spektrum des Signals zu erhalten\n",
    "$$\n",
    "     \\hat{I}_{\\tiny{\\text{No Filter}}}(f)  = \\mathfrak{F} \\{ \\hat{I}_{\\tiny{\\text{No Filter}}}(t)  \\}\n",
    "$$\n",
    "- Erstellen Sie in passender Auflösung den zugehörigen Frequenzvektor `f`"
   ],
   "id": "1773cdb8b13aa096"
  },
  {
   "metadata": {},
   "cell_type": "code",
   "source": [
    "I_hat_i_no_filter_spectrum = np.fft.fftshift(np.fft.fft(I_hat_i_no_filter))\n",
    "f = np.fft.fftshift(np.fft.fftfreq(len(I_hat_i_no_filter), T_sample))"
   ],
   "id": "287e20607db7feb7",
   "outputs": [],
   "execution_count": null
  },
  {
   "metadata": {},
   "cell_type": "code",
   "source": [
    "plt.plot(f, np.abs(I_hat_i_no_filter_spectrum)**2)\n",
    "plt.suptitle(r\"Spektrum des heruntergemischten Signals: $\\hat{I}_{\\rm{No Filter}}(f)$\")\n",
    "plt.grid(True)\n",
    "plt.yscale('log')\n",
    "plt.xlabel(r\"$f$ [Hz]\")\n",
    "plt.ylabel(r\"|$\\hat{I}_{\\rm{No Filter}}(f)$| [dB]\")\n",
    "plt.ylim(10e-4, 10e4)\n",
    "plt.show()"
   ],
   "id": "8ecb1976196580d7",
   "outputs": [],
   "execution_count": null
  },
  {
   "metadata": {},
   "cell_type": "markdown",
   "source": [
    "### 2. Tiefpassfilterung zur Berechnung von $\\hat{I}_{\\text{Filtered}}(t)$\n",
    "\n",
    "**Gegeben:**\n",
    "- Frequenzarray `f` (enthält Frequenzwerte in Hz)\n",
    "- Grafische Darstellung des Spektrums mit Frequenzachse in Hz\n",
    "\n",
    "**Problemstellung:**\n",
    "1. **Entfernung hochfrequenter Anteile** bei $-2f_c$ und $2f_c$\n",
    "2. Bestimmung der **Abschneidefrequenz** $f_k$ (kritische Frequenz in Hz):\n",
    "   - Direkt ablesbar aus der Spektrumsdarstellung\n",
    "   - Alternativ rechnerisch bestimmbar\n",
    "3. **Umsetzung in Python**:\n",
    "   - Nullsetzen aller Array-Werte außerhalb des gewünschten Spektrums\n",
    "   - Erfordert präzise Zuordnung von Frequenzwerten (Hz) zu Array-Indizes\n",
    "\n",
    "#### Aufgabe: Frequenz-zu-Index-Mapping\n",
    "Implementierung einer Funktion `convert_f_Hz_to_index`, die:\n",
    "- Eingabe: Einzelwert `f_Hz` (Ziel-Frequenz in Hz)\n",
    "- Eingabe: Frequenzarray `f` (NumPy-Array)\n",
    "- Ausgabe: Index $k$ desjenigen Array-Elements, das **am nächsten** an `f_Hz` liegt\n"
   ],
   "id": "54b79a743c0a95c7"
  },
  {
   "metadata": {},
   "cell_type": "code",
   "source": [
    "def convert_f_Hz_to_index(f_Hz: float, f: np.ndarray) -> int:\n",
    "    \"\"\"\n",
    "    Findet den Index der Frequenz in einem Array `f`, die am nächsten zum Zielwert `f_Hz` liegt.\n",
    "\n",
    "    Diese Funktion berechnet den elementweisen absoluten Unterschied zwischen dem Frequenzarray `f`\n",
    "    und der Ziel-Frequenz `f_Hz` und gibt den Index des minimalen Unterschieds zurück.\n",
    "\n",
    "    Parameter:\n",
    "        f_Hz (float): Ziel-Frequenz in Hertz, für die der nächstgelegene Index gesucht wird.\n",
    "        f (np.ndarray): 1D-Array von Frequenzwerten in Hertz, typischerweise aus einer FFT- oder\n",
    "                        Frequenzanalyse generiert.\n",
    "\n",
    "    Rückgabe:\n",
    "        int: Index des Werts in `f`, der `f_Hz` am nächsten liegt. Bei mehreren gleichen Minima wird\n",
    "             der erste auftretende Index zurückgegeben.\n",
    "\n",
    "    Beispiele:\n",
    "        >>> f = np.array([0, 100, 200, 300, 400])  # Frequenzarray in Hz\n",
    "        >>> convert_f_Hz_to_index(250, f)\n",
    "        2  # da 200 näher an 250 liegt als 300\n",
    "        >>> convert_f_Hz_to_index(300, f)\n",
    "        3  # exakte Übereinstimmung\n",
    "\n",
    "    Anwendungskontext:\n",
    "        - Nützlich zur Identifikation von Frequenzbändern in Fourier-Transformationen (FFT)\n",
    "        - Mapping von physikalischen Frequenzen auf diskrete Frequenz-Indizes in Spektralanalysen\n",
    "    \"\"\"\n",
    "    return np.argmin(np.abs(f - f_Hz))\n"
   ],
   "id": "1d14da69a62e5ea5",
   "outputs": [],
   "execution_count": null
  },
  {
   "metadata": {},
   "cell_type": "markdown",
   "source": [
    "### Design eines Filters\n",
    "\n",
    "Ziel: Das Spektrum des heruntergemischten Signals $\\mathfrak{F}\\{\\hat{I}_{\\text{NoFilter}}(t)\\}$ soll durch Entfernen der Störungen bei $\\pm 2f_c$ so bereinigt werden, dass im Idealfall die Hauptkomponenten des ursprüngliche Sendesignal-Spektrum $\\mathfrak{F}\\{x_{\\text{I, shaped}}(t)\\}$ (vor der Hochmischung) übrig bleiben.\n",
    "\n",
    "$$\n",
    "    \\hat{I}_{\\text{NoFilter}}(t) = \\frac{1}{2} I(t) \\cos(4\\pi f_{\\text{c}} t) + \\frac{1}{2} Q(t) I(t) \\sin(4\\pi f_{\\text{c}} t) + \\frac{1}{2} I(t)\n",
    "$$\n",
    "\n",
    "#### Aufgabe:\n",
    "- Designen Sie ein solches Filter $H_{\\tiny{\\text{TP}}}(f)$ in `H_tp`, welches das Ziel erreichen kann (Hinweis: Ein Rechteck Signal $\\text{rect}(f)$ könnte ein solches Verhalten erzielen)\n",
    "- Erstellen Sie in passender Auflösung den zugehörigen Frequenzvektor `f`\n",
    "- Verwenden Sie dabei die oben implementierte Funktion `convert_f_Hz_to_index`, welche `f_Hz` auf dessen Frequenzindex $k$ abbildet.\n",
    "- Vergessen Sie nicht mit dem Filter gleichzeitig den Faktor $\\frac{1}{2}$ im letzten Summanden aus $\\hat{I}_{\\text{NoFilter}}(t)$ `I_hat_i_no_filter` zu korrigieren."
   ],
   "id": "dc1df3b5d920fb01"
  },
  {
   "metadata": {},
   "cell_type": "code",
   "source": [
    "f = np.fft.fftshift(np.fft.fftfreq(len(I_hat_i_no_filter), T_sample))\n",
    "\n",
    "H_tp = np.zeros(len(f))\n",
    "# correct the 1/2 factor from downconversion\n",
    "\n",
    "# TODO: Calculate the Nyquist frequency and set the cutoff frequency to 1/4 of the Nyquist frequency\n",
    "border = 1/T_s\n",
    "# index from f at border\n",
    "left_index = convert_f_Hz_to_index(-border, f)\n",
    "rigth_index = convert_f_Hz_to_index(border, f) + 1\n",
    "H_tp[left_index:rigth_index] = 1\n",
    "H_tp = H_tp * 2"
   ],
   "id": "f5f5e68c067608b2",
   "outputs": [],
   "execution_count": null
  },
  {
   "metadata": {},
   "cell_type": "code",
   "source": [
    "plt.suptitle(r\"Tiefpassfilter: $H_{\\rm{TP}}(f)$\")\n",
    "plt.plot(f, np.abs(H_tp)**2)\n",
    "plt.xlabel(r\"$f$ [Hz]\")\n",
    "plt.ylabel(r\"|H_{\\rm{TP}}(f)| [dB]\")\n",
    "plt.yscale('log')\n",
    "plt.grid(True)"
   ],
   "id": "9f9417399fe634e4",
   "outputs": [],
   "execution_count": null
  },
  {
   "metadata": {},
   "cell_type": "markdown",
   "source": [
    "#### Aufgabe:\n",
    "- Wenden Sie $H_{\\tiny{\\text{TP}}}(f)$ auf $\\hat{I}_{\\text{NoFilter}}(f)$ und legen Sie das Ergebnis in `I_hat_i_filtered_spectrum` ab:\n",
    "$$\n",
    "    \\hat{I}_{\\text{Filtered}}(f) = \\hat{I}_{\\text{NoFilter}}(f) \\cdot H_{\\tiny{\\text{TP}}}(f)\n",
    "$$\n",
    "- Erstellen Sie in passender Auflösung den zugehörigen Frequenzvektor `f`\n"
   ],
   "id": "1fa6526b89979705"
  },
  {
   "metadata": {},
   "cell_type": "code",
   "source": [
    "I_hat_i_filtered_spectrum = I_hat_i_no_filter_spectrum * H_tp\n",
    "f = np.fft.fftshift(np.fft.fftfreq(I_hat_i_filtered_spectrum.size, T_sample))"
   ],
   "id": "97773985251d6d2a",
   "outputs": [],
   "execution_count": null
  },
  {
   "metadata": {},
   "cell_type": "code",
   "source": [
    "plt.suptitle(r\"Heruntergemischtes TP gefiltertes Signal: $\\hat{I}_{\\rm{Filtered}}(f)$\")\n",
    "plt.plot(f, np.abs(I_hat_i_filtered_spectrum)**2)\n",
    "plt.xlabel(r\"$f$ [Hz]\")\n",
    "plt.ylabel(r\"| $\\hat{I}_{\\rm{Filtered}}(f) | $ [dB]\")\n",
    "plt.grid(True)\n",
    "plt.yscale('log')\n"
   ],
   "id": "6324ec4c6379a63a",
   "outputs": [],
   "execution_count": null
  },
  {
   "metadata": {},
   "cell_type": "markdown",
   "source": [
    "#### Aufgabe:\n",
    "- Transformieren Sie nun $\\hat{I}_{\\text{Filtered}}(f)$ wieder in den Zeitbereich in `I_hat_i_filtered`\n",
    "- Erstellen Sie dazu einen passenden Zeitvektor `t`"
   ],
   "id": "aab50fd7cd445949"
  },
  {
   "metadata": {},
   "cell_type": "code",
   "source": [
    "I_hat_i_filtered = np.fft.ifft(np.fft.fftshift(I_hat_i_filtered_spectrum))\n",
    "t = np.arange(I_hat_i_filtered.size) * T_sample"
   ],
   "id": "470fd29735d4fb15",
   "outputs": [],
   "execution_count": null
  },
  {
   "metadata": {},
   "cell_type": "code",
   "source": [
    "plt.figure(figsize=(20, 5))\n",
    "plt.plot(t, I_hat_i_filtered.real)\n",
    "plt.plot(t, x_i_shaped)\n",
    "plt.grid(True)\n",
    "plt.legend([r'$\\hat{I}_{\\rm{Filtered}}(t)$', r'$x_{\\rm{I,shaped}}(t)$'])\n",
    "\n",
    "# Berechnung der Abtastzeitpunkte\n",
    "sample_times = (np.arange(len(I_hat_i_filtered))  + (num_taps // 2)) * T_sample\n",
    "\n",
    "start = num_taps // 2 + 1\n",
    "end = I_hat_i_filtered.size - num_taps // 2\n",
    "sample_times = np.arange(bits.size)\n",
    "n = start\n",
    "\n",
    "while n <= end:\n",
    "    plt.plot(t[n], I_hat_i_filtered[n], 'o')\n",
    "    n += sps\n",
    "\n",
    "plt.xlabel(r't [s]')\n",
    "plt.ylabel('Amplitude')\n",
    "plt.title(r'Gefiltertes und heruntergemischtes Empfangssignal: $\\hat{I}_{\\rm{Filtered}}(t)$')\n",
    "plt.show()\n",
    "\n"
   ],
   "id": "27b76aab90683ad5",
   "outputs": [],
   "execution_count": null
  },
  {
   "metadata": {},
   "cell_type": "code",
   "source": [
    "# TODO: Konsistente Farben dafür verwenden 1 Farbe für alles was das SDR macht und eine Farbe die man selbst der API übergibt\n",
    "\n",
    "plt.figure(figsize=(12, 8))\n",
    "plt.subplot(3, 1, 1)\n",
    "plt.plot(t, x_i_shaped)\n",
    "plt.title(r\"Basisbandsignal: $x_{\\rm{I, shaped}}(t)$\")\n",
    "plt.xlabel(r'$t$ [s]')\n",
    "plt.ylabel(r\"$x_{\\rm{I, shaped}}(t)$\")\n",
    "plt.grid(True)\n",
    "\n",
    "plt.subplot(3, 1, 2)\n",
    "plt.plot(t, s_hf)\n",
    "plt.title(r\"Passbandsignal: $s_{\\rm{HF}}(t)$\")\n",
    "plt.xlabel(r'$t$ [s]')\n",
    "plt.ylabel(r\"$s_{\\rm{HF}}(t)$\")\n",
    "plt.grid(True)\n",
    "\n",
    "plt.subplot(3, 1, 3)\n",
    "plt.plot(t, I_hat_i_filtered)\n",
    "plt.title(r\"Gefiltertes Signal (Basisband): $\\hat{I}_{\\rm{Filtered}}(t)$\")\n",
    "plt.xlabel(r'$t$ [s]')\n",
    "plt.ylabel(r\"$\\hat{I}_{\\rm{Filtered}}(t)$\")\n",
    "plt.grid(True)\n",
    "\n",
    "plt.tight_layout()\n",
    "plt.show()"
   ],
   "id": "e91c5a48fe788729",
   "outputs": [],
   "execution_count": null
  },
  {
   "metadata": {},
   "cell_type": "markdown",
   "source": [
    "# Frage: Woher kommen wenn ein Rechteck als Basisbandpulsform verwendet wird unten nach der Tiefpassfilterung die Überschwinger?\n",
    "- Ein Rechteck hat eine unendliche Bandbreite\n",
    "- Bei der Tiefpassfilterung werden die hohen Frequenzen abgeschnitten\n",
    "- Die Überschwinger kommen also daher, dass die hohen Frequenzen abgeschnitten werden und somit im Zeitbereich Überschwinger entstehen"
   ],
   "id": "b6c554be05bf32de"
  },
  {
   "metadata": {},
   "cell_type": "code",
   "source": [
    "f = np.fft.fftshift(np.fft.fftfreq(I_hat_i_filtered.size, T_sample))\n",
    "\n",
    "# Hier anpassen, je nachdem welcher Basisbandpuls verwendet wird (Rechteck oder Raised Cosine)\n",
    "base_band_pulse = get_rect_pulse(num_taps=len(I_hat_i_filtered))\n",
    "\n",
    "I_hat_i_filtered_normalized = normalize_energy(I_hat_i_filtered)\n",
    "x_i_shaped_normalized       = normalize_energy(x_i_shaped)\n",
    "baseband_signal_normalized  = normalize_energy(base_band_pulse)\n",
    "\n",
    "plt.plot(f, np.abs(np.fft.fftshift(np.abs(np.fft.fft(baseband_signal_normalized  ))**2)), alpha=0.5, linestyle='--')\n",
    "plt.plot(f, np.abs(np.fft.fftshift(np.abs(np.fft.fft(x_i_shaped_normalized       ))**2)), alpha=0.5, linestyle='-')\n",
    "plt.plot(f, np.abs(np.fft.fftshift(np.abs(np.fft.fft(I_hat_i_filtered_normalized ))**2)), color='black', linewidth=3, alpha=0.75)\n",
    "\n",
    "plt.legend([\"Basisband Puls\", \"Basisbandsignal\", \"Gefiltertes Signal\"])\n",
    "plt.xlabel(r\"$f$ [Hz]\")\n",
    "plt.ylabel(\"[dB]\")\n",
    "plt.grid(True)\n",
    "plt.yscale('log')\n",
    "plt.ylim(10e-5,10e3)"
   ],
   "id": "b2517c33b81c5f89",
   "outputs": [],
   "execution_count": null
  },
  {
   "metadata": {},
   "cell_type": "markdown",
   "source": [
    "## 3. ADC von $\\hat{I}_{\\tiny{\\text{Filtered}}}(t)$\n",
    "\n",
    "#### Aufgabe:\n",
    "- Führen sie das Sampling für $\\hat{I}_{\\tiny{\\text{Filtered}}}(t)$, welches in `I_hat_i_filtered` gespeichert ist aus (Hinweis: $f_s = \\text{sps}$)\n",
    "- Speichern Sie den Realteil der Samples in `rx_sampled`\n",
    "- Konvertieren Sie `rx_sampled` in ein NumPy Array `sdr_iq_samples` vom Typ `np.complex64`\n",
    "- Dies ist das Ergebnis, welches Ihnen die uhd Bibliothek nach einer Messung bereitstellt"
   ],
   "id": "89caaa5fb202c659"
  },
  {
   "metadata": {},
   "cell_type": "code",
   "source": [
    "fs = sps\n",
    "\n",
    "# Das ist nun der I Teil des empfangenen Signals\n",
    "real_part = I_hat_i_filtered[::fs].real\n",
    "\n",
    "# Der Q-Anteil hat den Wert Null, da BPSK verwendet wurde\n",
    "Q_hat_q_filtered = np.zeros_like(I_hat_i_filtered.size, dtype=np.complex64)\n",
    "imag_part = Q_hat_q_filtered[::fs].imag\n",
    "\n",
    "# Das SDR liefert nun daraus ein NumpPy Array mit dem dtype complex64\n",
    "sdr_iq_samples = (real_part + 1j * imag_part).astype(np.complex64)\n"
   ],
   "id": "c12d9d5fbd301903",
   "outputs": [],
   "execution_count": null
  },
  {
   "metadata": {},
   "cell_type": "code",
   "source": "print(sdr_iq_samples)",
   "id": "10e9b0f4b3134206",
   "outputs": [],
   "execution_count": null
  },
  {
   "metadata": {},
   "cell_type": "markdown",
   "source": "",
   "id": "4bc71cb924abd0d5"
  },
  {
   "metadata": {},
   "cell_type": "code",
   "source": "sdr_iq_samples\n",
   "id": "12d6d12f9533f418",
   "outputs": [],
   "execution_count": null
  },
  {
   "metadata": {},
   "cell_type": "code",
   "source": "plt.plot(sdr_iq_samples, '.')",
   "id": "8ca8224b31c40e28",
   "outputs": [],
   "execution_count": null
  },
  {
   "metadata": {},
   "cell_type": "markdown",
   "source": [
    "# Ende des Notebooks, Nachfolgender Teil kommt in die Synchronisation\n",
    "\n",
    "# Am ende den SDR Teil überspringen\n",
    "# SDR Box mit farben verwenden die wieder zeigt was das sdr macht und was das eigene Signal ist\n",
    "\n",
    "# Nächstes Notebook: SIGMF Reader Vorbereiten, notebook vorbereiten, wie bursts übertragen werden\n",
    "Ziel SiGMF FIles erzeugen, einlesen\n",
    "\n",
    "1. Sigmf Schreiben (Burst Dauer, CFO, Fc etc einstellen)\n",
    "2. Sigmf lesen und auf API Schnittstelle zum sendn bringen\n",
    "3. Ziel für Praxisphase: man kann sigmf files breitstellen\n",
    "4. Dann Synchronisation"
   ],
   "id": "a07a801f6fdf7020"
  },
  {
   "metadata": {},
   "cell_type": "code",
   "source": [
    "corr = np.zeros(len(rx_sampled))\n",
    "\n",
    "for i in range(len(rx_sampled) - len(synchronization_sequence)):\n",
    "    corr[i] = np.dot(rx_sampled[i:i+len(synchronization_sequence)], synchronization_sequence)\n",
    "\n",
    "tau0 = np.argmax(np.abs(corr))\n",
    "plt.axvline(tau0, color='r', linestyle='--')\n",
    "plt.plot(corr)"
   ],
   "id": "af0947d9363bd731",
   "outputs": [],
   "execution_count": null
  },
  {
   "metadata": {},
   "cell_type": "code",
   "source": [
    "print(f\"tau0: {tau0}\")\n",
    "print(f\"rx len: {len(rx_sampled)}\")\n"
   ],
   "id": "cd92db303e85c6be",
   "outputs": [],
   "execution_count": null
  },
  {
   "metadata": {},
   "cell_type": "code",
   "source": [
    "# data bits start at tau0 + len(syncronisation_sequence) and end at tau0 + len(syncronisation_sequence) + len(data_bits)\n",
    "data_symbols_received = rx_sampled[tau0+len(synchronization_sequence):tau0 + len(synchronization_sequence) + len(data_bits)]\n",
    "plt.plot(data_symbols_received, '.')"
   ],
   "id": "b778bf2a8c1bee8b",
   "outputs": [],
   "execution_count": null
  },
  {
   "metadata": {},
   "cell_type": "code",
   "source": [
    "# iq plot\n",
    "plt.scatter(np.real(data_symbols_received), np.imag(data_symbols_received), alpha=0.5, color='red')\n",
    "plt.ylim(-1.5, 1.5)\n",
    "plt.xlim(-1.5, 1.5)\n",
    "plt.grid(True)\n"
   ],
   "id": "9bf94a10b33e725a",
   "outputs": [],
   "execution_count": null
  },
  {
   "metadata": {},
   "cell_type": "code",
   "source": [
    "# decision making\n",
    "data_bits_received = np.zeros_like(data_bits)\n",
    "for i, symbol in enumerate(data_symbols_received):\n",
    "    if symbol.real > 0:\n",
    "        data_bits_received[i] = 1\n",
    "    else:\n",
    "        data_bits_received[i] = 0\n",
    "\n",
    "print(\"bits^hat = \", data_bits_received)\n",
    "print(\"bits     = \", data_bits)"
   ],
   "id": "c94cac8c0dd090ab",
   "outputs": [],
   "execution_count": null
  },
  {
   "metadata": {},
   "cell_type": "code",
   "source": "",
   "id": "803f0b8f453e750e",
   "outputs": [],
   "execution_count": null
  }
 ],
 "metadata": {
  "kernelspec": {
   "display_name": "Python 3",
   "language": "python",
   "name": "python3"
  },
  "language_info": {
   "codemirror_mode": {
    "name": "ipython",
    "version": 2
   },
   "file_extension": ".py",
   "mimetype": "text/x-python",
   "name": "python",
   "nbconvert_exporter": "python",
   "pygments_lexer": "ipython2",
   "version": "2.7.6"
  }
 },
 "nbformat": 4,
 "nbformat_minor": 5
}
